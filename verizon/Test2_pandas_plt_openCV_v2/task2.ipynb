{
 "cells": [
  {
   "cell_type": "code",
   "execution_count": 190,
   "id": "9425ca2d",
   "metadata": {},
   "outputs": [],
   "source": [
    "import pandas as pd\n",
    "import numpy as np\n",
    "\n",
    "import matplotlib as mpl\n",
    "import matplotlib.pyplot as plt\n",
    "%matplotlib inline\n",
    "import seaborn as sns\n",
    "\n",
    "import os\n",
    "import datetime\n",
    "\n",
    "import cv2"
   ]
  },
  {
   "cell_type": "markdown",
   "id": "19460071",
   "metadata": {},
   "source": [
    "# Data preparation"
   ]
  },
  {
   "cell_type": "code",
   "execution_count": 191,
   "id": "cbd04f39",
   "metadata": {},
   "outputs": [],
   "source": [
    "column_names = ['event_timestamp','event_structure_version','event_type','game_clock','play_clock','stop_flag','tag_serial_number','player_id','X','Y','Z','distance','Vx','Vy','V','Ax','Ay','A','direction']\n",
    "df = pd.read_csv('sample5s.csv',names=column_names)"
   ]
  },
  {
   "cell_type": "code",
   "execution_count": 192,
   "id": "5700bcc5",
   "metadata": {},
   "outputs": [
    {
     "data": {
      "text/html": [
       "<div>\n",
       "<style scoped>\n",
       "    .dataframe tbody tr th:only-of-type {\n",
       "        vertical-align: middle;\n",
       "    }\n",
       "\n",
       "    .dataframe tbody tr th {\n",
       "        vertical-align: top;\n",
       "    }\n",
       "\n",
       "    .dataframe thead th {\n",
       "        text-align: right;\n",
       "    }\n",
       "</style>\n",
       "<table border=\"1\" class=\"dataframe\">\n",
       "  <thead>\n",
       "    <tr style=\"text-align: right;\">\n",
       "      <th></th>\n",
       "      <th>event_timestamp</th>\n",
       "      <th>event_structure_version</th>\n",
       "      <th>event_type</th>\n",
       "      <th>game_clock</th>\n",
       "      <th>play_clock</th>\n",
       "      <th>stop_flag</th>\n",
       "      <th>tag_serial_number</th>\n",
       "      <th>player_id</th>\n",
       "      <th>X</th>\n",
       "      <th>Y</th>\n",
       "      <th>Z</th>\n",
       "      <th>distance</th>\n",
       "      <th>Vx</th>\n",
       "      <th>Vy</th>\n",
       "      <th>V</th>\n",
       "      <th>Ax</th>\n",
       "      <th>Ay</th>\n",
       "      <th>A</th>\n",
       "      <th>direction</th>\n",
       "    </tr>\n",
       "  </thead>\n",
       "  <tbody>\n",
       "    <tr>\n",
       "      <th>0</th>\n",
       "      <td>1652558856725</td>\n",
       "      <td>4</td>\n",
       "      <td>player</td>\n",
       "      <td>NaN</td>\n",
       "      <td>NaN</td>\n",
       "      <td>1</td>\n",
       "      <td>20150</td>\n",
       "      <td>136529.0</td>\n",
       "      <td>33038</td>\n",
       "      <td>-17436</td>\n",
       "      <td>933.0</td>\n",
       "      <td>2.1850</td>\n",
       "      <td>-0.11</td>\n",
       "      <td>-0.02</td>\n",
       "      <td>0.21</td>\n",
       "      <td>-0.00</td>\n",
       "      <td>-0.00</td>\n",
       "      <td>0.00</td>\n",
       "      <td>-167.91</td>\n",
       "    </tr>\n",
       "    <tr>\n",
       "      <th>1</th>\n",
       "      <td>1652558857910</td>\n",
       "      <td>4</td>\n",
       "      <td>player</td>\n",
       "      <td>NaN</td>\n",
       "      <td>NaN</td>\n",
       "      <td>1</td>\n",
       "      <td>20285</td>\n",
       "      <td>136531.0</td>\n",
       "      <td>-4856</td>\n",
       "      <td>-9452</td>\n",
       "      <td>1693.0</td>\n",
       "      <td>2.3466</td>\n",
       "      <td>-0.66</td>\n",
       "      <td>-2.34</td>\n",
       "      <td>2.51</td>\n",
       "      <td>-0.00</td>\n",
       "      <td>0.00</td>\n",
       "      <td>0.01</td>\n",
       "      <td>-105.78</td>\n",
       "    </tr>\n",
       "    <tr>\n",
       "      <th>2</th>\n",
       "      <td>1652558857168</td>\n",
       "      <td>4</td>\n",
       "      <td>player</td>\n",
       "      <td>NaN</td>\n",
       "      <td>NaN</td>\n",
       "      <td>1</td>\n",
       "      <td>20195</td>\n",
       "      <td>136543.0</td>\n",
       "      <td>32901</td>\n",
       "      <td>17404</td>\n",
       "      <td>1232.0</td>\n",
       "      <td>3.2877</td>\n",
       "      <td>-0.20</td>\n",
       "      <td>0.18</td>\n",
       "      <td>0.29</td>\n",
       "      <td>-0.00</td>\n",
       "      <td>0.00</td>\n",
       "      <td>0.00</td>\n",
       "      <td>136.81</td>\n",
       "    </tr>\n",
       "    <tr>\n",
       "      <th>3</th>\n",
       "      <td>1652558859897</td>\n",
       "      <td>4</td>\n",
       "      <td>player</td>\n",
       "      <td>NaN</td>\n",
       "      <td>NaN</td>\n",
       "      <td>1</td>\n",
       "      <td>20262</td>\n",
       "      <td>138136.0</td>\n",
       "      <td>-27617</td>\n",
       "      <td>-6218</td>\n",
       "      <td>805.0</td>\n",
       "      <td>2.7404</td>\n",
       "      <td>0.08</td>\n",
       "      <td>-0.09</td>\n",
       "      <td>0.67</td>\n",
       "      <td>-0.01</td>\n",
       "      <td>-0.00</td>\n",
       "      <td>0.01</td>\n",
       "      <td>-49.18</td>\n",
       "    </tr>\n",
       "    <tr>\n",
       "      <th>4</th>\n",
       "      <td>1652558855809</td>\n",
       "      <td>4</td>\n",
       "      <td>player</td>\n",
       "      <td>NaN</td>\n",
       "      <td>NaN</td>\n",
       "      <td>1</td>\n",
       "      <td>20127</td>\n",
       "      <td>136514.0</td>\n",
       "      <td>-2204</td>\n",
       "      <td>2092</td>\n",
       "      <td>1739.0</td>\n",
       "      <td>2.4634</td>\n",
       "      <td>-4.79</td>\n",
       "      <td>2.31</td>\n",
       "      <td>5.43</td>\n",
       "      <td>0.00</td>\n",
       "      <td>0.01</td>\n",
       "      <td>0.01</td>\n",
       "      <td>154.26</td>\n",
       "    </tr>\n",
       "  </tbody>\n",
       "</table>\n",
       "</div>"
      ],
      "text/plain": [
       "   event_timestamp  event_structure_version event_type  game_clock  \\\n",
       "0    1652558856725                        4     player         NaN   \n",
       "1    1652558857910                        4     player         NaN   \n",
       "2    1652558857168                        4     player         NaN   \n",
       "3    1652558859897                        4     player         NaN   \n",
       "4    1652558855809                        4     player         NaN   \n",
       "\n",
       "   play_clock  stop_flag  tag_serial_number  player_id      X      Y       Z  \\\n",
       "0         NaN          1              20150   136529.0  33038 -17436   933.0   \n",
       "1         NaN          1              20285   136531.0  -4856  -9452  1693.0   \n",
       "2         NaN          1              20195   136543.0  32901  17404  1232.0   \n",
       "3         NaN          1              20262   138136.0 -27617  -6218   805.0   \n",
       "4         NaN          1              20127   136514.0  -2204   2092  1739.0   \n",
       "\n",
       "   distance    Vx    Vy     V    Ax    Ay     A  direction  \n",
       "0    2.1850 -0.11 -0.02  0.21 -0.00 -0.00  0.00    -167.91  \n",
       "1    2.3466 -0.66 -2.34  2.51 -0.00  0.00  0.01    -105.78  \n",
       "2    3.2877 -0.20  0.18  0.29 -0.00  0.00  0.00     136.81  \n",
       "3    2.7404  0.08 -0.09  0.67 -0.01 -0.00  0.01     -49.18  \n",
       "4    2.4634 -4.79  2.31  5.43  0.00  0.01  0.01     154.26  "
      ]
     },
     "execution_count": 192,
     "metadata": {},
     "output_type": "execute_result"
    }
   ],
   "source": [
    "df.head()"
   ]
  },
  {
   "cell_type": "code",
   "execution_count": 193,
   "id": "13acd68a",
   "metadata": {},
   "outputs": [
    {
     "name": "stdout",
     "output_type": "stream",
     "text": [
      "<class 'pandas.core.frame.DataFrame'>\n",
      "RangeIndex: 10583 entries, 0 to 10582\n",
      "Data columns (total 19 columns):\n",
      " #   Column                   Non-Null Count  Dtype  \n",
      "---  ------                   --------------  -----  \n",
      " 0   event_timestamp          10583 non-null  int64  \n",
      " 1   event_structure_version  10583 non-null  int64  \n",
      " 2   event_type               10583 non-null  object \n",
      " 3   game_clock               0 non-null      float64\n",
      " 4   play_clock               0 non-null      float64\n",
      " 5   stop_flag                10583 non-null  int64  \n",
      " 6   tag_serial_number        10583 non-null  int64  \n",
      " 7   player_id                9983 non-null   float64\n",
      " 8   X                        10583 non-null  int64  \n",
      " 9   Y                        10583 non-null  int64  \n",
      " 10  Z                        10583 non-null  float64\n",
      " 11  distance                 10583 non-null  float64\n",
      " 12  Vx                       10583 non-null  float64\n",
      " 13  Vy                       10583 non-null  float64\n",
      " 14  V                        10583 non-null  float64\n",
      " 15  Ax                       10583 non-null  float64\n",
      " 16  Ay                       10583 non-null  float64\n",
      " 17  A                        10583 non-null  float64\n",
      " 18  direction                7783 non-null   float64\n",
      "dtypes: float64(12), int64(6), object(1)\n",
      "memory usage: 1.5+ MB\n"
     ]
    }
   ],
   "source": [
    "df.info()"
   ]
  },
  {
   "cell_type": "markdown",
   "id": "3de4b325",
   "metadata": {},
   "source": [
    "## Player"
   ]
  },
  {
   "cell_type": "code",
   "execution_count": 194,
   "id": "70093f3e",
   "metadata": {},
   "outputs": [],
   "source": [
    "player = df[df['event_type'] == 'player']"
   ]
  },
  {
   "cell_type": "code",
   "execution_count": 195,
   "id": "a2468ef1",
   "metadata": {},
   "outputs": [
    {
     "data": {
      "text/html": [
       "<div>\n",
       "<style scoped>\n",
       "    .dataframe tbody tr th:only-of-type {\n",
       "        vertical-align: middle;\n",
       "    }\n",
       "\n",
       "    .dataframe tbody tr th {\n",
       "        vertical-align: top;\n",
       "    }\n",
       "\n",
       "    .dataframe thead th {\n",
       "        text-align: right;\n",
       "    }\n",
       "</style>\n",
       "<table border=\"1\" class=\"dataframe\">\n",
       "  <thead>\n",
       "    <tr style=\"text-align: right;\">\n",
       "      <th></th>\n",
       "      <th>event_timestamp</th>\n",
       "      <th>tag_serial_number</th>\n",
       "      <th>player_id</th>\n",
       "      <th>X</th>\n",
       "      <th>Y</th>\n",
       "    </tr>\n",
       "  </thead>\n",
       "  <tbody>\n",
       "    <tr>\n",
       "      <th>0</th>\n",
       "      <td>1652558856725</td>\n",
       "      <td>20150</td>\n",
       "      <td>136529.0</td>\n",
       "      <td>33038</td>\n",
       "      <td>-17436</td>\n",
       "    </tr>\n",
       "    <tr>\n",
       "      <th>1</th>\n",
       "      <td>1652558857910</td>\n",
       "      <td>20285</td>\n",
       "      <td>136531.0</td>\n",
       "      <td>-4856</td>\n",
       "      <td>-9452</td>\n",
       "    </tr>\n",
       "    <tr>\n",
       "      <th>2</th>\n",
       "      <td>1652558857168</td>\n",
       "      <td>20195</td>\n",
       "      <td>136543.0</td>\n",
       "      <td>32901</td>\n",
       "      <td>17404</td>\n",
       "    </tr>\n",
       "    <tr>\n",
       "      <th>3</th>\n",
       "      <td>1652558859897</td>\n",
       "      <td>20262</td>\n",
       "      <td>138136.0</td>\n",
       "      <td>-27617</td>\n",
       "      <td>-6218</td>\n",
       "    </tr>\n",
       "    <tr>\n",
       "      <th>4</th>\n",
       "      <td>1652558855809</td>\n",
       "      <td>20127</td>\n",
       "      <td>136514.0</td>\n",
       "      <td>-2204</td>\n",
       "      <td>2092</td>\n",
       "    </tr>\n",
       "  </tbody>\n",
       "</table>\n",
       "</div>"
      ],
      "text/plain": [
       "   event_timestamp  tag_serial_number  player_id      X      Y\n",
       "0    1652558856725              20150   136529.0  33038 -17436\n",
       "1    1652558857910              20285   136531.0  -4856  -9452\n",
       "2    1652558857168              20195   136543.0  32901  17404\n",
       "3    1652558859897              20262   138136.0 -27617  -6218\n",
       "4    1652558855809              20127   136514.0  -2204   2092"
      ]
     },
     "execution_count": 195,
     "metadata": {},
     "output_type": "execute_result"
    }
   ],
   "source": [
    "# extract the relevent columns\n",
    "player = player[['event_timestamp','tag_serial_number','player_id','X','Y']]\n",
    "player.head()"
   ]
  },
  {
   "cell_type": "code",
   "execution_count": 196,
   "id": "875b912b",
   "metadata": {},
   "outputs": [
    {
     "data": {
      "text/html": [
       "<div>\n",
       "<style scoped>\n",
       "    .dataframe tbody tr th:only-of-type {\n",
       "        vertical-align: middle;\n",
       "    }\n",
       "\n",
       "    .dataframe tbody tr th {\n",
       "        vertical-align: top;\n",
       "    }\n",
       "\n",
       "    .dataframe thead th {\n",
       "        text-align: right;\n",
       "    }\n",
       "</style>\n",
       "<table border=\"1\" class=\"dataframe\">\n",
       "  <thead>\n",
       "    <tr style=\"text-align: right;\">\n",
       "      <th></th>\n",
       "      <th>event_timestamp</th>\n",
       "      <th>tag_serial_number</th>\n",
       "      <th>player_id</th>\n",
       "      <th>X</th>\n",
       "      <th>Y</th>\n",
       "    </tr>\n",
       "  </thead>\n",
       "  <tbody>\n",
       "    <tr>\n",
       "      <th>count</th>\n",
       "      <td>7.783000e+03</td>\n",
       "      <td>7783.000000</td>\n",
       "      <td>7183.000000</td>\n",
       "      <td>7783.000000</td>\n",
       "      <td>7783.000000</td>\n",
       "    </tr>\n",
       "    <tr>\n",
       "      <th>mean</th>\n",
       "      <td>1.652559e+12</td>\n",
       "      <td>20223.690222</td>\n",
       "      <td>136735.574551</td>\n",
       "      <td>-2122.553900</td>\n",
       "      <td>-2169.110240</td>\n",
       "    </tr>\n",
       "    <tr>\n",
       "      <th>std</th>\n",
       "      <td>1.446454e+03</td>\n",
       "      <td>94.374246</td>\n",
       "      <td>451.205326</td>\n",
       "      <td>25849.854572</td>\n",
       "      <td>11374.061105</td>\n",
       "    </tr>\n",
       "    <tr>\n",
       "      <th>min</th>\n",
       "      <td>1.652559e+12</td>\n",
       "      <td>20033.000000</td>\n",
       "      <td>136503.000000</td>\n",
       "      <td>-35102.000000</td>\n",
       "      <td>-20425.000000</td>\n",
       "    </tr>\n",
       "    <tr>\n",
       "      <th>25%</th>\n",
       "      <td>1.652559e+12</td>\n",
       "      <td>20150.000000</td>\n",
       "      <td>136529.000000</td>\n",
       "      <td>-27728.500000</td>\n",
       "      <td>-10436.500000</td>\n",
       "    </tr>\n",
       "    <tr>\n",
       "      <th>50%</th>\n",
       "      <td>1.652559e+12</td>\n",
       "      <td>20229.000000</td>\n",
       "      <td>136558.000000</td>\n",
       "      <td>-4445.000000</td>\n",
       "      <td>-3264.000000</td>\n",
       "    </tr>\n",
       "    <tr>\n",
       "      <th>75%</th>\n",
       "      <td>1.652559e+12</td>\n",
       "      <td>20313.000000</td>\n",
       "      <td>136585.000000</td>\n",
       "      <td>27220.000000</td>\n",
       "      <td>4693.000000</td>\n",
       "    </tr>\n",
       "    <tr>\n",
       "      <th>max</th>\n",
       "      <td>1.652559e+12</td>\n",
       "      <td>20364.000000</td>\n",
       "      <td>138138.000000</td>\n",
       "      <td>35684.000000</td>\n",
       "      <td>30603.000000</td>\n",
       "    </tr>\n",
       "  </tbody>\n",
       "</table>\n",
       "</div>"
      ],
      "text/plain": [
       "       event_timestamp  tag_serial_number      player_id             X  \\\n",
       "count     7.783000e+03        7783.000000    7183.000000   7783.000000   \n",
       "mean      1.652559e+12       20223.690222  136735.574551  -2122.553900   \n",
       "std       1.446454e+03          94.374246     451.205326  25849.854572   \n",
       "min       1.652559e+12       20033.000000  136503.000000 -35102.000000   \n",
       "25%       1.652559e+12       20150.000000  136529.000000 -27728.500000   \n",
       "50%       1.652559e+12       20229.000000  136558.000000  -4445.000000   \n",
       "75%       1.652559e+12       20313.000000  136585.000000  27220.000000   \n",
       "max       1.652559e+12       20364.000000  138138.000000  35684.000000   \n",
       "\n",
       "                  Y  \n",
       "count   7783.000000  \n",
       "mean   -2169.110240  \n",
       "std    11374.061105  \n",
       "min   -20425.000000  \n",
       "25%   -10436.500000  \n",
       "50%    -3264.000000  \n",
       "75%     4693.000000  \n",
       "max    30603.000000  "
      ]
     },
     "execution_count": 196,
     "metadata": {},
     "output_type": "execute_result"
    }
   ],
   "source": [
    "player.describe()"
   ]
  },
  {
   "cell_type": "markdown",
   "id": "98b11e25",
   "metadata": {},
   "source": [
    "Explore missing data"
   ]
  },
  {
   "cell_type": "code",
   "execution_count": 197,
   "id": "4f709801",
   "metadata": {},
   "outputs": [
    {
     "data": {
      "text/plain": [
       "event_timestamp        0\n",
       "tag_serial_number      0\n",
       "player_id            600\n",
       "X                      0\n",
       "Y                      0\n",
       "dtype: int64"
      ]
     },
     "execution_count": 197,
     "metadata": {},
     "output_type": "execute_result"
    }
   ],
   "source": [
    "# missing data: 600 records have no 'player_id', but (X,Y) is complete\n",
    "player.isnull().sum()"
   ]
  },
  {
   "cell_type": "code",
   "execution_count": 198,
   "id": "6508b9d1",
   "metadata": {},
   "outputs": [
    {
     "data": {
      "text/plain": [
       "player_id            73\n",
       "tag_serial_number    79\n",
       "dtype: int64"
      ]
     },
     "execution_count": 198,
     "metadata": {},
     "output_type": "execute_result"
    }
   ],
   "source": [
    "player[['player_id','tag_serial_number']].nunique()"
   ]
  },
  {
   "cell_type": "code",
   "execution_count": 199,
   "id": "1a044c59",
   "metadata": {},
   "outputs": [
    {
     "data": {
      "text/plain": [
       "array([20353, 20277, 20243, 20339, 20363, 20326], dtype=int64)"
      ]
     },
     "execution_count": 199,
     "metadata": {},
     "output_type": "execute_result"
    }
   ],
   "source": [
    "# records that have missing 'player_id' come from 6 sensors\n",
    "player[player['player_id'].isnull()]['tag_serial_number'].unique()"
   ]
  },
  {
   "cell_type": "code",
   "execution_count": 200,
   "id": "b0d989e7",
   "metadata": {},
   "outputs": [
    {
     "data": {
      "text/plain": [
       "event_timestamp      100\n",
       "tag_serial_number    100\n",
       "player_id              0\n",
       "X                    100\n",
       "Y                    100\n",
       "dtype: int64"
      ]
     },
     "execution_count": 200,
     "metadata": {},
     "output_type": "execute_result"
    }
   ],
   "source": [
    "# use one sensor as an example to explore the data, same procedure was repeated for other 5 sensors\n",
    "# each sensor has 100 records\n",
    "sensor_id = 20353\n",
    "player[player['tag_serial_number'] == sensor_id].sort_values('event_timestamp').count()"
   ]
  },
  {
   "cell_type": "code",
   "execution_count": 201,
   "id": "8805d88a",
   "metadata": {},
   "outputs": [
    {
     "data": {
      "text/plain": [
       "[<matplotlib.lines.Line2D at 0x1fdb4c019f0>]"
      ]
     },
     "execution_count": 201,
     "metadata": {},
     "output_type": "execute_result"
    },
    {
     "data": {
      "image/png": "[encoded data removed]",
      "text/plain": [
       "<Figure size 640x480 with 1 Axes>"
      ]
     },
     "metadata": {},
     "output_type": "display_data"
    }
   ],
   "source": [
    "# plots the (X,Y) for each sonsor in a consequtive of 5s\n",
    "x_ = player[player['tag_serial_number'] == sensor_id].sort_values('event_timestamp')['X']\n",
    "y_ = player[player['tag_serial_number'] == sensor_id].sort_values('event_timestamp')['Y']\n",
    "plt.plot(x_,y_)"
   ]
  },
  {
   "cell_type": "markdown",
   "id": "51db35dc",
   "metadata": {},
   "source": [
    "Two methods to deal will the missing data:\n",
    "Method 1: drop nan values, 8% player missing in the field.\n",
    "Method 2: resonably assuming that each each player_id has a unique tag_serial_number, therefore 600 missing data belongs to 6 unique players monitored by 6 unique sensors. Assign random values to player_id. \n",
    "In this analysis, Method 2 is applied."
   ]
  },
  {
   "cell_type": "code",
   "execution_count": 202,
   "id": "703562e2",
   "metadata": {},
   "outputs": [],
   "source": [
    "def fill_in_id (sensor_id_missing):\n",
    "    if sensor_id_missing == 20353:\n",
    "        player_id_missing = 1;\n",
    "    elif  sensor_id_missing == 20277:\n",
    "        player_id_missing = 2;\n",
    "    elif  sensor_id_missing == 20243:\n",
    "        player_id_missing = 3;\n",
    "    elif  sensor_id_missing == 20339:\n",
    "        player_id_missing = 4;\n",
    "    elif  sensor_id_missing == 20363:\n",
    "        player_id_missing = 5;\n",
    "    else:\n",
    "        player_id_missing = 6;\n",
    "    return player_id_missing"
   ]
  },
  {
   "cell_type": "code",
   "execution_count": 203,
   "id": "7bfb816c",
   "metadata": {},
   "outputs": [],
   "source": [
    "player.loc[player['player_id'].isnull(),'player_id'] = player.loc[df['player_id'].isnull(),'tag_serial_number'].apply(lambda x:fill_in_id(x))"
   ]
  },
  {
   "cell_type": "code",
   "execution_count": 204,
   "id": "d8641431",
   "metadata": {},
   "outputs": [
    {
     "data": {
      "text/plain": [
       "event_timestamp      0\n",
       "tag_serial_number    0\n",
       "player_id            0\n",
       "X                    0\n",
       "Y                    0\n",
       "dtype: int64"
      ]
     },
     "execution_count": 204,
     "metadata": {},
     "output_type": "execute_result"
    }
   ],
   "source": [
    "player.isnull().sum()"
   ]
  },
  {
   "cell_type": "markdown",
   "id": "cf00b5a4",
   "metadata": {},
   "source": [
    "## Ball"
   ]
  },
  {
   "cell_type": "code",
   "execution_count": 205,
   "id": "6c20f9c2",
   "metadata": {},
   "outputs": [],
   "source": [
    "ball = df[df['event_type'] == 'ball']"
   ]
  },
  {
   "cell_type": "code",
   "execution_count": 206,
   "id": "836309c7",
   "metadata": {},
   "outputs": [],
   "source": [
    "# fix the column indexs of ball\n",
    "ball_columns_name = ['event_timestamp','event_structure_version','event_type','game_clock','play_clock','stop_flag','tag_serial_number','X','Y','Z','distance','Vx','Vy','V','Ax','Ay','A','direction']\n",
    "ball = ball.drop(ball.columns[-1],axis=1)\n",
    "ball = ball.set_axis(ball_columns_name,axis=1)"
   ]
  },
  {
   "cell_type": "code",
   "execution_count": 207,
   "id": "b4cec7fe",
   "metadata": {},
   "outputs": [],
   "source": [
    "# delete the irrelevent columns in ball\n",
    "ball = ball[['event_timestamp','tag_serial_number','X','Y']]\n",
    "# add a column in ball named 'player_id' with assigned values of 0 so that ball and player have the same size\n",
    "ball['player_id'] = 0"
   ]
  },
  {
   "cell_type": "code",
   "execution_count": 208,
   "id": "9c572077",
   "metadata": {},
   "outputs": [
    {
     "data": {
      "text/html": [
       "<div>\n",
       "<style scoped>\n",
       "    .dataframe tbody tr th:only-of-type {\n",
       "        vertical-align: middle;\n",
       "    }\n",
       "\n",
       "    .dataframe tbody tr th {\n",
       "        vertical-align: top;\n",
       "    }\n",
       "\n",
       "    .dataframe thead th {\n",
       "        text-align: right;\n",
       "    }\n",
       "</style>\n",
       "<table border=\"1\" class=\"dataframe\">\n",
       "  <thead>\n",
       "    <tr style=\"text-align: right;\">\n",
       "      <th></th>\n",
       "      <th>event_timestamp</th>\n",
       "      <th>tag_serial_number</th>\n",
       "      <th>player_id</th>\n",
       "      <th>X</th>\n",
       "      <th>Y</th>\n",
       "    </tr>\n",
       "  </thead>\n",
       "  <tbody>\n",
       "    <tr>\n",
       "      <th>5</th>\n",
       "      <td>1652558859721</td>\n",
       "      <td>2147582624</td>\n",
       "      <td>0</td>\n",
       "      <td>-26243.0</td>\n",
       "      <td>-14777</td>\n",
       "    </tr>\n",
       "    <tr>\n",
       "      <th>9</th>\n",
       "      <td>1652558859654</td>\n",
       "      <td>2147578827</td>\n",
       "      <td>0</td>\n",
       "      <td>-27035.0</td>\n",
       "      <td>3368</td>\n",
       "    </tr>\n",
       "    <tr>\n",
       "      <th>10</th>\n",
       "      <td>1652558856653</td>\n",
       "      <td>2147585778</td>\n",
       "      <td>0</td>\n",
       "      <td>-26260.0</td>\n",
       "      <td>-14604</td>\n",
       "    </tr>\n",
       "    <tr>\n",
       "      <th>18</th>\n",
       "      <td>1652558855704</td>\n",
       "      <td>2147567164</td>\n",
       "      <td>0</td>\n",
       "      <td>26456.0</td>\n",
       "      <td>-4011</td>\n",
       "    </tr>\n",
       "    <tr>\n",
       "      <th>19</th>\n",
       "      <td>1652558855080</td>\n",
       "      <td>2147567164</td>\n",
       "      <td>0</td>\n",
       "      <td>26429.0</td>\n",
       "      <td>-3935</td>\n",
       "    </tr>\n",
       "  </tbody>\n",
       "</table>\n",
       "</div>"
      ],
      "text/plain": [
       "    event_timestamp  tag_serial_number  player_id        X      Y\n",
       "5     1652558859721         2147582624          0 -26243.0 -14777\n",
       "9     1652558859654         2147578827          0 -27035.0   3368\n",
       "10    1652558856653         2147585778          0 -26260.0 -14604\n",
       "18    1652558855704         2147567164          0  26456.0  -4011\n",
       "19    1652558855080         2147567164          0  26429.0  -3935"
      ]
     },
     "execution_count": 208,
     "metadata": {},
     "output_type": "execute_result"
    }
   ],
   "source": [
    "# adjust the sequence of column index of ball\n",
    "ball = ball[['event_timestamp','tag_serial_number', 'player_id', 'X', 'Y']]\n",
    "ball.head()"
   ]
  },
  {
   "cell_type": "markdown",
   "id": "b1de20b7",
   "metadata": {},
   "source": [
    "Explore the data"
   ]
  },
  {
   "cell_type": "code",
   "execution_count": 209,
   "id": "9a444518",
   "metadata": {},
   "outputs": [
    {
     "data": {
      "text/plain": [
       "event_timestamp      0\n",
       "tag_serial_number    0\n",
       "player_id            0\n",
       "X                    0\n",
       "Y                    0\n",
       "dtype: int64"
      ]
     },
     "execution_count": 209,
     "metadata": {},
     "output_type": "execute_result"
    }
   ],
   "source": [
    "# missing data: no\n",
    "ball.isnull().sum()"
   ]
  },
  {
   "cell_type": "code",
   "execution_count": 210,
   "id": "b5017784",
   "metadata": {},
   "outputs": [
    {
     "data": {
      "text/plain": [
       "14"
      ]
     },
     "execution_count": 210,
     "metadata": {},
     "output_type": "execute_result"
    }
   ],
   "source": [
    "# unique numbers: data of ball comes from 14 unique sensors\n",
    "ball['tag_serial_number'].nunique()"
   ]
  },
  {
   "cell_type": "markdown",
   "id": "ffaaec1c",
   "metadata": {},
   "source": [
    "## Combine player and ball into one dataframe"
   ]
  },
  {
   "cell_type": "code",
   "execution_count": 221,
   "id": "b5a4c05b",
   "metadata": {},
   "outputs": [
    {
     "data": {
      "text/html": [
       "<div>\n",
       "<style scoped>\n",
       "    .dataframe tbody tr th:only-of-type {\n",
       "        vertical-align: middle;\n",
       "    }\n",
       "\n",
       "    .dataframe tbody tr th {\n",
       "        vertical-align: top;\n",
       "    }\n",
       "\n",
       "    .dataframe thead th {\n",
       "        text-align: right;\n",
       "    }\n",
       "</style>\n",
       "<table border=\"1\" class=\"dataframe\">\n",
       "  <thead>\n",
       "    <tr style=\"text-align: right;\">\n",
       "      <th></th>\n",
       "      <th>event_timestamp</th>\n",
       "      <th>tag_serial_number</th>\n",
       "      <th>player_id</th>\n",
       "      <th>X</th>\n",
       "      <th>Y</th>\n",
       "    </tr>\n",
       "  </thead>\n",
       "  <tbody>\n",
       "    <tr>\n",
       "      <th>0</th>\n",
       "      <td>1652558856725</td>\n",
       "      <td>20150</td>\n",
       "      <td>136529.0</td>\n",
       "      <td>33038.0</td>\n",
       "      <td>-17436</td>\n",
       "    </tr>\n",
       "    <tr>\n",
       "      <th>1</th>\n",
       "      <td>1652558857910</td>\n",
       "      <td>20285</td>\n",
       "      <td>136531.0</td>\n",
       "      <td>-4856.0</td>\n",
       "      <td>-9452</td>\n",
       "    </tr>\n",
       "    <tr>\n",
       "      <th>2</th>\n",
       "      <td>1652558857168</td>\n",
       "      <td>20195</td>\n",
       "      <td>136543.0</td>\n",
       "      <td>32901.0</td>\n",
       "      <td>17404</td>\n",
       "    </tr>\n",
       "    <tr>\n",
       "      <th>3</th>\n",
       "      <td>1652558859897</td>\n",
       "      <td>20262</td>\n",
       "      <td>138136.0</td>\n",
       "      <td>-27617.0</td>\n",
       "      <td>-6218</td>\n",
       "    </tr>\n",
       "    <tr>\n",
       "      <th>4</th>\n",
       "      <td>1652558855809</td>\n",
       "      <td>20127</td>\n",
       "      <td>136514.0</td>\n",
       "      <td>-2204.0</td>\n",
       "      <td>2092</td>\n",
       "    </tr>\n",
       "  </tbody>\n",
       "</table>\n",
       "</div>"
      ],
      "text/plain": [
       "   event_timestamp  tag_serial_number  player_id        X      Y\n",
       "0    1652558856725              20150   136529.0  33038.0 -17436\n",
       "1    1652558857910              20285   136531.0  -4856.0  -9452\n",
       "2    1652558857168              20195   136543.0  32901.0  17404\n",
       "3    1652558859897              20262   138136.0 -27617.0  -6218\n",
       "4    1652558855809              20127   136514.0  -2204.0   2092"
      ]
     },
     "execution_count": 221,
     "metadata": {},
     "output_type": "execute_result"
    }
   ],
   "source": [
    "new_df = pd.concat([player,ball],axis=0)\n",
    "new_df.head()"
   ]
  },
  {
   "cell_type": "markdown",
   "id": "c8b14a08",
   "metadata": {},
   "source": [
    "# Aggregate to 50 ms"
   ]
  },
  {
   "cell_type": "code",
   "execution_count": 222,
   "id": "01b2e6e7",
   "metadata": {},
   "outputs": [
    {
     "data": {
      "text/html": [
       "<div>\n",
       "<style scoped>\n",
       "    .dataframe tbody tr th:only-of-type {\n",
       "        vertical-align: middle;\n",
       "    }\n",
       "\n",
       "    .dataframe tbody tr th {\n",
       "        vertical-align: top;\n",
       "    }\n",
       "\n",
       "    .dataframe thead th {\n",
       "        text-align: right;\n",
       "    }\n",
       "</style>\n",
       "<table border=\"1\" class=\"dataframe\">\n",
       "  <thead>\n",
       "    <tr style=\"text-align: right;\">\n",
       "      <th></th>\n",
       "      <th>event_timestamp</th>\n",
       "      <th>tag_serial_number</th>\n",
       "      <th>player_id</th>\n",
       "      <th>X</th>\n",
       "      <th>Y</th>\n",
       "      <th>timestamp_resample</th>\n",
       "    </tr>\n",
       "  </thead>\n",
       "  <tbody>\n",
       "    <tr>\n",
       "      <th>0</th>\n",
       "      <td>1652558856725</td>\n",
       "      <td>20150</td>\n",
       "      <td>136529.0</td>\n",
       "      <td>33038.0</td>\n",
       "      <td>-17436</td>\n",
       "      <td>1652558856700</td>\n",
       "    </tr>\n",
       "    <tr>\n",
       "      <th>1</th>\n",
       "      <td>1652558857910</td>\n",
       "      <td>20285</td>\n",
       "      <td>136531.0</td>\n",
       "      <td>-4856.0</td>\n",
       "      <td>-9452</td>\n",
       "      <td>1652558857900</td>\n",
       "    </tr>\n",
       "    <tr>\n",
       "      <th>2</th>\n",
       "      <td>1652558857168</td>\n",
       "      <td>20195</td>\n",
       "      <td>136543.0</td>\n",
       "      <td>32901.0</td>\n",
       "      <td>17404</td>\n",
       "      <td>1652558857150</td>\n",
       "    </tr>\n",
       "    <tr>\n",
       "      <th>3</th>\n",
       "      <td>1652558859897</td>\n",
       "      <td>20262</td>\n",
       "      <td>138136.0</td>\n",
       "      <td>-27617.0</td>\n",
       "      <td>-6218</td>\n",
       "      <td>1652558859850</td>\n",
       "    </tr>\n",
       "    <tr>\n",
       "      <th>4</th>\n",
       "      <td>1652558855809</td>\n",
       "      <td>20127</td>\n",
       "      <td>136514.0</td>\n",
       "      <td>-2204.0</td>\n",
       "      <td>2092</td>\n",
       "      <td>1652558855800</td>\n",
       "    </tr>\n",
       "  </tbody>\n",
       "</table>\n",
       "</div>"
      ],
      "text/plain": [
       "   event_timestamp  tag_serial_number  player_id        X      Y  \\\n",
       "0    1652558856725              20150   136529.0  33038.0 -17436   \n",
       "1    1652558857910              20285   136531.0  -4856.0  -9452   \n",
       "2    1652558857168              20195   136543.0  32901.0  17404   \n",
       "3    1652558859897              20262   138136.0 -27617.0  -6218   \n",
       "4    1652558855809              20127   136514.0  -2204.0   2092   \n",
       "\n",
       "   timestamp_resample  \n",
       "0       1652558856700  \n",
       "1       1652558857900  \n",
       "2       1652558857150  \n",
       "3       1652558859850  \n",
       "4       1652558855800  "
      ]
     },
     "execution_count": 222,
     "metadata": {},
     "output_type": "execute_result"
    }
   ],
   "source": [
    "# resample to 50ms\n",
    "new_df['timestamp_resample'] = new_df.iloc[:,0]//50*50\n",
    "new_df.head()"
   ]
  },
  {
   "cell_type": "code",
   "execution_count": 223,
   "id": "209ef780",
   "metadata": {},
   "outputs": [],
   "source": [
    "# for each unique tag_serial_number, aggregate-mean\n",
    "x_ave = new_df.groupby(['tag_serial_number','timestamp_resample']).mean()['X']\n",
    "y_ave = new_df.groupby(['tag_serial_number','timestamp_resample']).mean()['Y']"
   ]
  },
  {
   "cell_type": "code",
   "execution_count": 224,
   "id": "f364c66b",
   "metadata": {},
   "outputs": [
    {
     "data": {
      "text/html": [
       "<div>\n",
       "<style scoped>\n",
       "    .dataframe tbody tr th:only-of-type {\n",
       "        vertical-align: middle;\n",
       "    }\n",
       "\n",
       "    .dataframe tbody tr th {\n",
       "        vertical-align: top;\n",
       "    }\n",
       "\n",
       "    .dataframe thead th {\n",
       "        text-align: right;\n",
       "    }\n",
       "</style>\n",
       "<table border=\"1\" class=\"dataframe\">\n",
       "  <thead>\n",
       "    <tr style=\"text-align: right;\">\n",
       "      <th></th>\n",
       "      <th>event_timestamp</th>\n",
       "      <th>tag_serial_number</th>\n",
       "      <th>player_id</th>\n",
       "      <th>X</th>\n",
       "      <th>Y</th>\n",
       "      <th>timestamp_resample</th>\n",
       "      <th>X_ave</th>\n",
       "      <th>Y_ave</th>\n",
       "    </tr>\n",
       "  </thead>\n",
       "  <tbody>\n",
       "    <tr>\n",
       "      <th>0</th>\n",
       "      <td>1652558856725</td>\n",
       "      <td>20150</td>\n",
       "      <td>136529.0</td>\n",
       "      <td>33038.0</td>\n",
       "      <td>-17436</td>\n",
       "      <td>1652558856700</td>\n",
       "      <td>33038.0</td>\n",
       "      <td>-17436.0</td>\n",
       "    </tr>\n",
       "    <tr>\n",
       "      <th>1</th>\n",
       "      <td>1652558857910</td>\n",
       "      <td>20285</td>\n",
       "      <td>136531.0</td>\n",
       "      <td>-4856.0</td>\n",
       "      <td>-9452</td>\n",
       "      <td>1652558857900</td>\n",
       "      <td>-4856.0</td>\n",
       "      <td>-9452.0</td>\n",
       "    </tr>\n",
       "    <tr>\n",
       "      <th>2</th>\n",
       "      <td>1652558857168</td>\n",
       "      <td>20195</td>\n",
       "      <td>136543.0</td>\n",
       "      <td>32901.0</td>\n",
       "      <td>17404</td>\n",
       "      <td>1652558857150</td>\n",
       "      <td>32901.0</td>\n",
       "      <td>17404.0</td>\n",
       "    </tr>\n",
       "    <tr>\n",
       "      <th>3</th>\n",
       "      <td>1652558859897</td>\n",
       "      <td>20262</td>\n",
       "      <td>138136.0</td>\n",
       "      <td>-27617.0</td>\n",
       "      <td>-6218</td>\n",
       "      <td>1652558859850</td>\n",
       "      <td>-27617.0</td>\n",
       "      <td>-6218.0</td>\n",
       "    </tr>\n",
       "    <tr>\n",
       "      <th>4</th>\n",
       "      <td>1652558855809</td>\n",
       "      <td>20127</td>\n",
       "      <td>136514.0</td>\n",
       "      <td>-2204.0</td>\n",
       "      <td>2092</td>\n",
       "      <td>1652558855800</td>\n",
       "      <td>-2204.0</td>\n",
       "      <td>2092.0</td>\n",
       "    </tr>\n",
       "  </tbody>\n",
       "</table>\n",
       "</div>"
      ],
      "text/plain": [
       "   event_timestamp  tag_serial_number  player_id        X      Y  \\\n",
       "0    1652558856725              20150   136529.0  33038.0 -17436   \n",
       "1    1652558857910              20285   136531.0  -4856.0  -9452   \n",
       "2    1652558857168              20195   136543.0  32901.0  17404   \n",
       "3    1652558859897              20262   138136.0 -27617.0  -6218   \n",
       "4    1652558855809              20127   136514.0  -2204.0   2092   \n",
       "\n",
       "   timestamp_resample    X_ave    Y_ave  \n",
       "0       1652558856700  33038.0 -17436.0  \n",
       "1       1652558857900  -4856.0  -9452.0  \n",
       "2       1652558857150  32901.0  17404.0  \n",
       "3       1652558859850 -27617.0  -6218.0  \n",
       "4       1652558855800  -2204.0   2092.0  "
      ]
     },
     "execution_count": 224,
     "metadata": {},
     "output_type": "execute_result"
    }
   ],
   "source": [
    "new_df['X_ave'] = new_df.apply(lambda x:x_ave[x['tag_serial_number'],x['timestamp_resample']],axis=1)\n",
    "new_df['Y_ave'] = new_df.apply(lambda x:y_ave[x['tag_serial_number'],x['timestamp_resample']],axis=1)\n",
    "new_df.head()"
   ]
  },
  {
   "cell_type": "code",
   "execution_count": 225,
   "id": "63a8786e",
   "metadata": {},
   "outputs": [
    {
     "data": {
      "text/html": [
       "<div>\n",
       "<style scoped>\n",
       "    .dataframe tbody tr th:only-of-type {\n",
       "        vertical-align: middle;\n",
       "    }\n",
       "\n",
       "    .dataframe tbody tr th {\n",
       "        vertical-align: top;\n",
       "    }\n",
       "\n",
       "    .dataframe thead th {\n",
       "        text-align: right;\n",
       "    }\n",
       "</style>\n",
       "<table border=\"1\" class=\"dataframe\">\n",
       "  <thead>\n",
       "    <tr style=\"text-align: right;\">\n",
       "      <th></th>\n",
       "      <th>event_timestamp</th>\n",
       "      <th>tag_serial_number</th>\n",
       "      <th>player_id</th>\n",
       "      <th>X</th>\n",
       "      <th>Y</th>\n",
       "      <th>timestamp_resample</th>\n",
       "      <th>X_ave</th>\n",
       "      <th>Y_ave</th>\n",
       "    </tr>\n",
       "  </thead>\n",
       "  <tbody>\n",
       "    <tr>\n",
       "      <th>count</th>\n",
       "      <td>2.539000e+03</td>\n",
       "      <td>2.539000e+03</td>\n",
       "      <td>2539.000000</td>\n",
       "      <td>2539.000000</td>\n",
       "      <td>2539.000000</td>\n",
       "      <td>2.539000e+03</td>\n",
       "      <td>2539.000000</td>\n",
       "      <td>2539.000000</td>\n",
       "    </tr>\n",
       "    <tr>\n",
       "      <th>mean</th>\n",
       "      <td>1.652559e+12</td>\n",
       "      <td>1.691861e+08</td>\n",
       "      <td>115069.924380</td>\n",
       "      <td>-2679.099646</td>\n",
       "      <td>-451.801497</td>\n",
       "      <td>1.652559e+12</td>\n",
       "      <td>-2679.099646</td>\n",
       "      <td>-451.801497</td>\n",
       "    </tr>\n",
       "    <tr>\n",
       "      <th>std</th>\n",
       "      <td>1.442287e+03</td>\n",
       "      <td>5.786266e+08</td>\n",
       "      <td>49769.793026</td>\n",
       "      <td>8799.126435</td>\n",
       "      <td>8268.625619</td>\n",
       "      <td>1.442336e+03</td>\n",
       "      <td>8799.115950</td>\n",
       "      <td>8268.613161</td>\n",
       "    </tr>\n",
       "    <tr>\n",
       "      <th>min</th>\n",
       "      <td>1.652559e+12</td>\n",
       "      <td>2.003300e+04</td>\n",
       "      <td>0.000000</td>\n",
       "      <td>-24197.000000</td>\n",
       "      <td>-15968.000000</td>\n",
       "      <td>1.652559e+12</td>\n",
       "      <td>-24197.000000</td>\n",
       "      <td>-15968.000000</td>\n",
       "    </tr>\n",
       "    <tr>\n",
       "      <th>25%</th>\n",
       "      <td>1.652559e+12</td>\n",
       "      <td>2.016200e+04</td>\n",
       "      <td>136514.000000</td>\n",
       "      <td>-7221.000000</td>\n",
       "      <td>-6102.000000</td>\n",
       "      <td>1.652559e+12</td>\n",
       "      <td>-7221.000000</td>\n",
       "      <td>-6080.500000</td>\n",
       "    </tr>\n",
       "    <tr>\n",
       "      <th>50%</th>\n",
       "      <td>1.652559e+12</td>\n",
       "      <td>2.021900e+04</td>\n",
       "      <td>136544.000000</td>\n",
       "      <td>-3444.000000</td>\n",
       "      <td>-1227.000000</td>\n",
       "      <td>1.652559e+12</td>\n",
       "      <td>-3444.000000</td>\n",
       "      <td>-1220.500000</td>\n",
       "    </tr>\n",
       "    <tr>\n",
       "      <th>75%</th>\n",
       "      <td>1.652559e+12</td>\n",
       "      <td>2.033400e+04</td>\n",
       "      <td>136580.000000</td>\n",
       "      <td>1443.500000</td>\n",
       "      <td>4484.000000</td>\n",
       "      <td>1.652559e+12</td>\n",
       "      <td>1443.500000</td>\n",
       "      <td>4484.000000</td>\n",
       "    </tr>\n",
       "    <tr>\n",
       "      <th>max</th>\n",
       "      <td>1.652559e+12</td>\n",
       "      <td>2.147581e+09</td>\n",
       "      <td>137385.000000</td>\n",
       "      <td>20572.000000</td>\n",
       "      <td>20157.000000</td>\n",
       "      <td>1.652559e+12</td>\n",
       "      <td>20572.000000</td>\n",
       "      <td>20157.000000</td>\n",
       "    </tr>\n",
       "  </tbody>\n",
       "</table>\n",
       "</div>"
      ],
      "text/plain": [
       "       event_timestamp  tag_serial_number      player_id             X  \\\n",
       "count     2.539000e+03       2.539000e+03    2539.000000   2539.000000   \n",
       "mean      1.652559e+12       1.691861e+08  115069.924380  -2679.099646   \n",
       "std       1.442287e+03       5.786266e+08   49769.793026   8799.126435   \n",
       "min       1.652559e+12       2.003300e+04       0.000000 -24197.000000   \n",
       "25%       1.652559e+12       2.016200e+04  136514.000000  -7221.000000   \n",
       "50%       1.652559e+12       2.021900e+04  136544.000000  -3444.000000   \n",
       "75%       1.652559e+12       2.033400e+04  136580.000000   1443.500000   \n",
       "max       1.652559e+12       2.147581e+09  137385.000000  20572.000000   \n",
       "\n",
       "                  Y  timestamp_resample         X_ave         Y_ave  \n",
       "count   2539.000000        2.539000e+03   2539.000000   2539.000000  \n",
       "mean    -451.801497        1.652559e+12  -2679.099646   -451.801497  \n",
       "std     8268.625619        1.442336e+03   8799.115950   8268.613161  \n",
       "min   -15968.000000        1.652559e+12 -24197.000000 -15968.000000  \n",
       "25%    -6102.000000        1.652559e+12  -7221.000000  -6080.500000  \n",
       "50%    -1227.000000        1.652559e+12  -3444.000000  -1220.500000  \n",
       "75%     4484.000000        1.652559e+12   1443.500000   4484.000000  \n",
       "max    20157.000000        1.652559e+12  20572.000000  20157.000000  "
      ]
     },
     "execution_count": 225,
     "metadata": {},
     "output_type": "execute_result"
    }
   ],
   "source": [
    "# eliminate the data that are outside of the field\n",
    "x_top = 24231.6\n",
    "x_bot = -24231.6\n",
    "y_r = 54864.0\n",
    "y_l = -54864.0\n",
    "new_df = new_df[(new_df['X_ave'] <= x_top) & (new_df['X_ave'] >= x_bot) & (new_df['Y_ave'] <= y_r) & (new_df['Y_ave'] >= y_l)]\n",
    "new_df.describe()"
   ]
  },
  {
   "cell_type": "markdown",
   "id": "0a679a79",
   "metadata": {},
   "source": [
    "# Plotting"
   ]
  },
  {
   "cell_type": "code",
   "execution_count": 229,
   "id": "ba17472e",
   "metadata": {},
   "outputs": [
    {
     "data": {
      "text/html": [
       "<div>\n",
       "<style scoped>\n",
       "    .dataframe tbody tr th:only-of-type {\n",
       "        vertical-align: middle;\n",
       "    }\n",
       "\n",
       "    .dataframe tbody tr th {\n",
       "        vertical-align: top;\n",
       "    }\n",
       "\n",
       "    .dataframe thead th {\n",
       "        text-align: right;\n",
       "    }\n",
       "</style>\n",
       "<table border=\"1\" class=\"dataframe\">\n",
       "  <thead>\n",
       "    <tr style=\"text-align: right;\">\n",
       "      <th></th>\n",
       "      <th>event_timestamp</th>\n",
       "      <th>tag_serial_number</th>\n",
       "      <th>player_id</th>\n",
       "      <th>X</th>\n",
       "      <th>Y</th>\n",
       "      <th>timestamp_resample</th>\n",
       "      <th>X_ave</th>\n",
       "      <th>Y_ave</th>\n",
       "      <th>datetime</th>\n",
       "      <th>datetime_resample</th>\n",
       "    </tr>\n",
       "  </thead>\n",
       "  <tbody>\n",
       "    <tr>\n",
       "      <th>1</th>\n",
       "      <td>1652558857910</td>\n",
       "      <td>20285</td>\n",
       "      <td>136531.0</td>\n",
       "      <td>-4856.0</td>\n",
       "      <td>-9452</td>\n",
       "      <td>1652558857900</td>\n",
       "      <td>-4856.0</td>\n",
       "      <td>-9452.0</td>\n",
       "      <td>2022-05-14 20:07:37.910000+00:00</td>\n",
       "      <td>2022-05-14 20:07:37.900000+00:00</td>\n",
       "    </tr>\n",
       "    <tr>\n",
       "      <th>4</th>\n",
       "      <td>1652558855809</td>\n",
       "      <td>20127</td>\n",
       "      <td>136514.0</td>\n",
       "      <td>-2204.0</td>\n",
       "      <td>2092</td>\n",
       "      <td>1652558855800</td>\n",
       "      <td>-2204.0</td>\n",
       "      <td>2092.0</td>\n",
       "      <td>2022-05-14 20:07:35.809000+00:00</td>\n",
       "      <td>2022-05-14 20:07:35.800000+00:00</td>\n",
       "    </tr>\n",
       "    <tr>\n",
       "      <th>7</th>\n",
       "      <td>1652558858395</td>\n",
       "      <td>20334</td>\n",
       "      <td>136586.0</td>\n",
       "      <td>-15350.0</td>\n",
       "      <td>1492</td>\n",
       "      <td>1652558858350</td>\n",
       "      <td>-15350.0</td>\n",
       "      <td>1492.0</td>\n",
       "      <td>2022-05-14 20:07:38.395000+00:00</td>\n",
       "      <td>2022-05-14 20:07:38.350000+00:00</td>\n",
       "    </tr>\n",
       "    <tr>\n",
       "      <th>29</th>\n",
       "      <td>1652558856376</td>\n",
       "      <td>20297</td>\n",
       "      <td>136583.0</td>\n",
       "      <td>-67.0</td>\n",
       "      <td>-4808</td>\n",
       "      <td>1652558856350</td>\n",
       "      <td>-67.0</td>\n",
       "      <td>-4808.0</td>\n",
       "      <td>2022-05-14 20:07:36.376000+00:00</td>\n",
       "      <td>2022-05-14 20:07:36.350000+00:00</td>\n",
       "    </tr>\n",
       "    <tr>\n",
       "      <th>34</th>\n",
       "      <td>1652558858673</td>\n",
       "      <td>20219</td>\n",
       "      <td>136560.0</td>\n",
       "      <td>20536.0</td>\n",
       "      <td>13121</td>\n",
       "      <td>1652558858650</td>\n",
       "      <td>20536.0</td>\n",
       "      <td>13121.0</td>\n",
       "      <td>2022-05-14 20:07:38.673000+00:00</td>\n",
       "      <td>2022-05-14 20:07:38.650000+00:00</td>\n",
       "    </tr>\n",
       "  </tbody>\n",
       "</table>\n",
       "</div>"
      ],
      "text/plain": [
       "    event_timestamp  tag_serial_number  player_id        X      Y  \\\n",
       "1     1652558857910              20285   136531.0  -4856.0  -9452   \n",
       "4     1652558855809              20127   136514.0  -2204.0   2092   \n",
       "7     1652558858395              20334   136586.0 -15350.0   1492   \n",
       "29    1652558856376              20297   136583.0    -67.0  -4808   \n",
       "34    1652558858673              20219   136560.0  20536.0  13121   \n",
       "\n",
       "    timestamp_resample    X_ave    Y_ave                         datetime  \\\n",
       "1        1652558857900  -4856.0  -9452.0 2022-05-14 20:07:37.910000+00:00   \n",
       "4        1652558855800  -2204.0   2092.0 2022-05-14 20:07:35.809000+00:00   \n",
       "7        1652558858350 -15350.0   1492.0 2022-05-14 20:07:38.395000+00:00   \n",
       "29       1652558856350    -67.0  -4808.0 2022-05-14 20:07:36.376000+00:00   \n",
       "34       1652558858650  20536.0  13121.0 2022-05-14 20:07:38.673000+00:00   \n",
       "\n",
       "                  datetime_resample  \n",
       "1  2022-05-14 20:07:37.900000+00:00  \n",
       "4  2022-05-14 20:07:35.800000+00:00  \n",
       "7  2022-05-14 20:07:38.350000+00:00  \n",
       "29 2022-05-14 20:07:36.350000+00:00  \n",
       "34 2022-05-14 20:07:38.650000+00:00  "
      ]
     },
     "execution_count": 229,
     "metadata": {},
     "output_type": "execute_result"
    }
   ],
   "source": [
    "df_image = new_df\n",
    "# convert timestamp format\n",
    "df_image['datetime'] = pd.to_datetime(df_image['event_timestamp'],utc=True,unit='ms',origin='unix')\n",
    "df_image['datetime_resample'] = pd.to_datetime(df_image['timestamp_resample'],utc=True,unit='ms',origin='unix')\n",
    "df_image.head()"
   ]
  },
  {
   "cell_type": "code",
   "execution_count": 230,
   "id": "a88333af",
   "metadata": {},
   "outputs": [
    {
     "data": {
      "text/plain": [
       "<pandas.core.groupby.generic.DataFrameGroupBy object at 0x000001FDBE1E42B0>"
      ]
     },
     "execution_count": 230,
     "metadata": {},
     "output_type": "execute_result"
    }
   ],
   "source": [
    "df_image.groupby('datetime_resample')"
   ]
  },
  {
   "cell_type": "code",
   "execution_count": 182,
   "id": "8b77903c",
   "metadata": {},
   "outputs": [
    {
     "data": {
      "text/plain": [
       "<DatetimeArray>\n",
       "[       '2022-05-14 20:07:35+00:00', '2022-05-14 20:07:35.050000+00:00',\n",
       " '2022-05-14 20:07:35.100000+00:00', '2022-05-14 20:07:35.150000+00:00',\n",
       " '2022-05-14 20:07:35.200000+00:00', '2022-05-14 20:07:35.250000+00:00',\n",
       " '2022-05-14 20:07:35.300000+00:00', '2022-05-14 20:07:35.350000+00:00',\n",
       " '2022-05-14 20:07:35.400000+00:00', '2022-05-14 20:07:35.450000+00:00',\n",
       " '2022-05-14 20:07:35.500000+00:00', '2022-05-14 20:07:35.550000+00:00',\n",
       " '2022-05-14 20:07:35.600000+00:00', '2022-05-14 20:07:35.650000+00:00',\n",
       " '2022-05-14 20:07:35.700000+00:00', '2022-05-14 20:07:35.750000+00:00',\n",
       " '2022-05-14 20:07:35.800000+00:00', '2022-05-14 20:07:35.850000+00:00',\n",
       " '2022-05-14 20:07:35.900000+00:00', '2022-05-14 20:07:35.950000+00:00',\n",
       "        '2022-05-14 20:07:36+00:00', '2022-05-14 20:07:36.050000+00:00',\n",
       " '2022-05-14 20:07:36.100000+00:00', '2022-05-14 20:07:36.150000+00:00',\n",
       " '2022-05-14 20:07:36.200000+00:00', '2022-05-14 20:07:36.250000+00:00',\n",
       " '2022-05-14 20:07:36.300000+00:00', '2022-05-14 20:07:36.350000+00:00',\n",
       " '2022-05-14 20:07:36.400000+00:00', '2022-05-14 20:07:36.450000+00:00',\n",
       " '2022-05-14 20:07:36.500000+00:00', '2022-05-14 20:07:36.550000+00:00',\n",
       " '2022-05-14 20:07:36.600000+00:00', '2022-05-14 20:07:36.650000+00:00',\n",
       " '2022-05-14 20:07:36.700000+00:00', '2022-05-14 20:07:36.750000+00:00',\n",
       " '2022-05-14 20:07:36.800000+00:00', '2022-05-14 20:07:36.850000+00:00',\n",
       " '2022-05-14 20:07:36.900000+00:00', '2022-05-14 20:07:36.950000+00:00',\n",
       "        '2022-05-14 20:07:37+00:00', '2022-05-14 20:07:37.050000+00:00',\n",
       " '2022-05-14 20:07:37.100000+00:00', '2022-05-14 20:07:37.150000+00:00',\n",
       " '2022-05-14 20:07:37.200000+00:00', '2022-05-14 20:07:37.250000+00:00',\n",
       " '2022-05-14 20:07:37.300000+00:00', '2022-05-14 20:07:37.350000+00:00',\n",
       " '2022-05-14 20:07:37.400000+00:00', '2022-05-14 20:07:37.450000+00:00',\n",
       " '2022-05-14 20:07:37.500000+00:00', '2022-05-14 20:07:37.550000+00:00',\n",
       " '2022-05-14 20:07:37.600000+00:00', '2022-05-14 20:07:37.650000+00:00',\n",
       " '2022-05-14 20:07:37.700000+00:00', '2022-05-14 20:07:37.750000+00:00',\n",
       " '2022-05-14 20:07:37.800000+00:00', '2022-05-14 20:07:37.850000+00:00',\n",
       " '2022-05-14 20:07:37.900000+00:00', '2022-05-14 20:07:37.950000+00:00',\n",
       "        '2022-05-14 20:07:38+00:00', '2022-05-14 20:07:38.050000+00:00',\n",
       " '2022-05-14 20:07:38.100000+00:00', '2022-05-14 20:07:38.150000+00:00',\n",
       " '2022-05-14 20:07:38.200000+00:00', '2022-05-14 20:07:38.250000+00:00',\n",
       " '2022-05-14 20:07:38.300000+00:00', '2022-05-14 20:07:38.350000+00:00',\n",
       " '2022-05-14 20:07:38.400000+00:00', '2022-05-14 20:07:38.450000+00:00',\n",
       " '2022-05-14 20:07:38.500000+00:00', '2022-05-14 20:07:38.550000+00:00',\n",
       " '2022-05-14 20:07:38.600000+00:00', '2022-05-14 20:07:38.650000+00:00',\n",
       " '2022-05-14 20:07:38.700000+00:00', '2022-05-14 20:07:38.750000+00:00',\n",
       " '2022-05-14 20:07:38.800000+00:00', '2022-05-14 20:07:38.850000+00:00',\n",
       " '2022-05-14 20:07:38.900000+00:00', '2022-05-14 20:07:38.950000+00:00',\n",
       "        '2022-05-14 20:07:39+00:00', '2022-05-14 20:07:39.050000+00:00',\n",
       " '2022-05-14 20:07:39.100000+00:00', '2022-05-14 20:07:39.150000+00:00',\n",
       " '2022-05-14 20:07:39.200000+00:00', '2022-05-14 20:07:39.250000+00:00',\n",
       " '2022-05-14 20:07:39.300000+00:00', '2022-05-14 20:07:39.350000+00:00',\n",
       " '2022-05-14 20:07:39.400000+00:00', '2022-05-14 20:07:39.450000+00:00',\n",
       " '2022-05-14 20:07:39.500000+00:00', '2022-05-14 20:07:39.550000+00:00',\n",
       " '2022-05-14 20:07:39.600000+00:00', '2022-05-14 20:07:39.650000+00:00',\n",
       " '2022-05-14 20:07:39.700000+00:00', '2022-05-14 20:07:39.750000+00:00',\n",
       " '2022-05-14 20:07:39.800000+00:00', '2022-05-14 20:07:39.850000+00:00',\n",
       " '2022-05-14 20:07:39.900000+00:00', '2022-05-14 20:07:39.950000+00:00']\n",
       "Length: 100, dtype: datetime64[ns, UTC]"
      ]
     },
     "execution_count": 182,
     "metadata": {},
     "output_type": "execute_result"
    }
   ],
   "source": [
    "unique_timestamp = df_image.sort_values('timestamp_resample')['datetime_resample'].unique()\n",
    "#unique_timestamp.strftime('%Y-%m-%d %H:%M:%S.%f')[:-4]\n",
    "unique_timestamp"
   ]
  },
  {
   "cell_type": "code",
   "execution_count": 22,
   "id": "9d05ce6f",
   "metadata": {},
   "outputs": [],
   "source": [
    "# create a new folder for images\n",
    "os.makedirs('./images', exist_ok=True)"
   ]
  },
  {
   "cell_type": "code",
   "execution_count": 183,
   "id": "7b52052a",
   "metadata": {},
   "outputs": [
    {
     "name": "stderr",
     "output_type": "stream",
     "text": [
      "C:\\Users\\Xiaoyi Chen\\AppData\\Local\\Temp\\ipykernel_13216\\2209370944.py:4: RuntimeWarning: More than 20 figures have been opened. Figures created through the pyplot interface (`matplotlib.pyplot.figure`) are retained until explicitly closed and may consume too much memory. (To control this warning, see the rcParam `figure.max_open_warning`).\n",
      "  plt.figure(figsize = (19.2,10.8))\n"
     ]
    },
    {
     "data": {
      "text/plain": [
       "<Figure size 1920x1080 with 0 Axes>"
      ]
     },
     "metadata": {},
     "output_type": "display_data"
    },
    {
     "data": {
      "text/plain": [
       "<Figure size 1920x1080 with 0 Axes>"
      ]
     },
     "metadata": {},
     "output_type": "display_data"
    },
    {
     "data": {
      "text/plain": [
       "<Figure size 1920x1080 with 0 Axes>"
      ]
     },
     "metadata": {},
     "output_type": "display_data"
    },
    {
     "data": {
      "text/plain": [
       "<Figure size 1920x1080 with 0 Axes>"
      ]
     },
     "metadata": {},
     "output_type": "display_data"
    },
    {
     "data": {
      "text/plain": [
       "<Figure size 1920x1080 with 0 Axes>"
      ]
     },
     "metadata": {},
     "output_type": "display_data"
    },
    {
     "data": {
      "text/plain": [
       "<Figure size 1920x1080 with 0 Axes>"
      ]
     },
     "metadata": {},
     "output_type": "display_data"
    },
    {
     "data": {
      "text/plain": [
       "<Figure size 1920x1080 with 0 Axes>"
      ]
     },
     "metadata": {},
     "output_type": "display_data"
    },
    {
     "data": {
      "text/plain": [
       "<Figure size 1920x1080 with 0 Axes>"
      ]
     },
     "metadata": {},
     "output_type": "display_data"
    },
    {
     "data": {
      "text/plain": [
       "<Figure size 1920x1080 with 0 Axes>"
      ]
     },
     "metadata": {},
     "output_type": "display_data"
    },
    {
     "data": {
      "text/plain": [
       "<Figure size 1920x1080 with 0 Axes>"
      ]
     },
     "metadata": {},
     "output_type": "display_data"
    },
    {
     "data": {
      "text/plain": [
       "<Figure size 1920x1080 with 0 Axes>"
      ]
     },
     "metadata": {},
     "output_type": "display_data"
    },
    {
     "data": {
      "text/plain": [
       "<Figure size 1920x1080 with 0 Axes>"
      ]
     },
     "metadata": {},
     "output_type": "display_data"
    },
    {
     "data": {
      "text/plain": [
       "<Figure size 1920x1080 with 0 Axes>"
      ]
     },
     "metadata": {},
     "output_type": "display_data"
    },
    {
     "data": {
      "text/plain": [
       "<Figure size 1920x1080 with 0 Axes>"
      ]
     },
     "metadata": {},
     "output_type": "display_data"
    },
    {
     "data": {
      "text/plain": [
       "<Figure size 1920x1080 with 0 Axes>"
      ]
     },
     "metadata": {},
     "output_type": "display_data"
    },
    {
     "data": {
      "text/plain": [
       "<Figure size 1920x1080 with 0 Axes>"
      ]
     },
     "metadata": {},
     "output_type": "display_data"
    },
    {
     "data": {
      "text/plain": [
       "<Figure size 1920x1080 with 0 Axes>"
      ]
     },
     "metadata": {},
     "output_type": "display_data"
    },
    {
     "data": {
      "text/plain": [
       "<Figure size 1920x1080 with 0 Axes>"
      ]
     },
     "metadata": {},
     "output_type": "display_data"
    },
    {
     "data": {
      "text/plain": [
       "<Figure size 1920x1080 with 0 Axes>"
      ]
     },
     "metadata": {},
     "output_type": "display_data"
    },
    {
     "data": {
      "text/plain": [
       "<Figure size 1920x1080 with 0 Axes>"
      ]
     },
     "metadata": {},
     "output_type": "display_data"
    },
    {
     "data": {
      "text/plain": [
       "<Figure size 1920x1080 with 0 Axes>"
      ]
     },
     "metadata": {},
     "output_type": "display_data"
    },
    {
     "data": {
      "text/plain": [
       "<Figure size 1920x1080 with 0 Axes>"
      ]
     },
     "metadata": {},
     "output_type": "display_data"
    },
    {
     "data": {
      "text/plain": [
       "<Figure size 1920x1080 with 0 Axes>"
      ]
     },
     "metadata": {},
     "output_type": "display_data"
    },
    {
     "data": {
      "text/plain": [
       "<Figure size 1920x1080 with 0 Axes>"
      ]
     },
     "metadata": {},
     "output_type": "display_data"
    },
    {
     "data": {
      "text/plain": [
       "<Figure size 1920x1080 with 0 Axes>"
      ]
     },
     "metadata": {},
     "output_type": "display_data"
    },
    {
     "data": {
      "text/plain": [
       "<Figure size 1920x1080 with 0 Axes>"
      ]
     },
     "metadata": {},
     "output_type": "display_data"
    },
    {
     "data": {
      "text/plain": [
       "<Figure size 1920x1080 with 0 Axes>"
      ]
     },
     "metadata": {},
     "output_type": "display_data"
    },
    {
     "data": {
      "text/plain": [
       "<Figure size 1920x1080 with 0 Axes>"
      ]
     },
     "metadata": {},
     "output_type": "display_data"
    },
    {
     "data": {
      "text/plain": [
       "<Figure size 1920x1080 with 0 Axes>"
      ]
     },
     "metadata": {},
     "output_type": "display_data"
    },
    {
     "data": {
      "text/plain": [
       "<Figure size 1920x1080 with 0 Axes>"
      ]
     },
     "metadata": {},
     "output_type": "display_data"
    },
    {
     "data": {
      "text/plain": [
       "<Figure size 1920x1080 with 0 Axes>"
      ]
     },
     "metadata": {},
     "output_type": "display_data"
    },
    {
     "data": {
      "text/plain": [
       "<Figure size 1920x1080 with 0 Axes>"
      ]
     },
     "metadata": {},
     "output_type": "display_data"
    },
    {
     "data": {
      "text/plain": [
       "<Figure size 1920x1080 with 0 Axes>"
      ]
     },
     "metadata": {},
     "output_type": "display_data"
    },
    {
     "data": {
      "text/plain": [
       "<Figure size 1920x1080 with 0 Axes>"
      ]
     },
     "metadata": {},
     "output_type": "display_data"
    },
    {
     "data": {
      "text/plain": [
       "<Figure size 1920x1080 with 0 Axes>"
      ]
     },
     "metadata": {},
     "output_type": "display_data"
    },
    {
     "data": {
      "text/plain": [
       "<Figure size 1920x1080 with 0 Axes>"
      ]
     },
     "metadata": {},
     "output_type": "display_data"
    },
    {
     "data": {
      "text/plain": [
       "<Figure size 1920x1080 with 0 Axes>"
      ]
     },
     "metadata": {},
     "output_type": "display_data"
    },
    {
     "data": {
      "text/plain": [
       "<Figure size 1920x1080 with 0 Axes>"
      ]
     },
     "metadata": {},
     "output_type": "display_data"
    },
    {
     "data": {
      "text/plain": [
       "<Figure size 1920x1080 with 0 Axes>"
      ]
     },
     "metadata": {},
     "output_type": "display_data"
    },
    {
     "data": {
      "text/plain": [
       "<Figure size 1920x1080 with 0 Axes>"
      ]
     },
     "metadata": {},
     "output_type": "display_data"
    },
    {
     "data": {
      "text/plain": [
       "<Figure size 1920x1080 with 0 Axes>"
      ]
     },
     "metadata": {},
     "output_type": "display_data"
    },
    {
     "data": {
      "text/plain": [
       "<Figure size 1920x1080 with 0 Axes>"
      ]
     },
     "metadata": {},
     "output_type": "display_data"
    },
    {
     "data": {
      "text/plain": [
       "<Figure size 1920x1080 with 0 Axes>"
      ]
     },
     "metadata": {},
     "output_type": "display_data"
    },
    {
     "data": {
      "text/plain": [
       "<Figure size 1920x1080 with 0 Axes>"
      ]
     },
     "metadata": {},
     "output_type": "display_data"
    },
    {
     "data": {
      "text/plain": [
       "<Figure size 1920x1080 with 0 Axes>"
      ]
     },
     "metadata": {},
     "output_type": "display_data"
    },
    {
     "data": {
      "text/plain": [
       "<Figure size 1920x1080 with 0 Axes>"
      ]
     },
     "metadata": {},
     "output_type": "display_data"
    },
    {
     "data": {
      "text/plain": [
       "<Figure size 1920x1080 with 0 Axes>"
      ]
     },
     "metadata": {},
     "output_type": "display_data"
    },
    {
     "data": {
      "text/plain": [
       "<Figure size 1920x1080 with 0 Axes>"
      ]
     },
     "metadata": {},
     "output_type": "display_data"
    },
    {
     "data": {
      "text/plain": [
       "<Figure size 1920x1080 with 0 Axes>"
      ]
     },
     "metadata": {},
     "output_type": "display_data"
    },
    {
     "data": {
      "text/plain": [
       "<Figure size 1920x1080 with 0 Axes>"
      ]
     },
     "metadata": {},
     "output_type": "display_data"
    },
    {
     "data": {
      "text/plain": [
       "<Figure size 1920x1080 with 0 Axes>"
      ]
     },
     "metadata": {},
     "output_type": "display_data"
    },
    {
     "data": {
      "text/plain": [
       "<Figure size 1920x1080 with 0 Axes>"
      ]
     },
     "metadata": {},
     "output_type": "display_data"
    },
    {
     "data": {
      "text/plain": [
       "<Figure size 1920x1080 with 0 Axes>"
      ]
     },
     "metadata": {},
     "output_type": "display_data"
    },
    {
     "data": {
      "text/plain": [
       "<Figure size 1920x1080 with 0 Axes>"
      ]
     },
     "metadata": {},
     "output_type": "display_data"
    },
    {
     "data": {
      "text/plain": [
       "<Figure size 1920x1080 with 0 Axes>"
      ]
     },
     "metadata": {},
     "output_type": "display_data"
    },
    {
     "data": {
      "text/plain": [
       "<Figure size 1920x1080 with 0 Axes>"
      ]
     },
     "metadata": {},
     "output_type": "display_data"
    },
    {
     "data": {
      "text/plain": [
       "<Figure size 1920x1080 with 0 Axes>"
      ]
     },
     "metadata": {},
     "output_type": "display_data"
    },
    {
     "data": {
      "text/plain": [
       "<Figure size 1920x1080 with 0 Axes>"
      ]
     },
     "metadata": {},
     "output_type": "display_data"
    },
    {
     "data": {
      "text/plain": [
       "<Figure size 1920x1080 with 0 Axes>"
      ]
     },
     "metadata": {},
     "output_type": "display_data"
    },
    {
     "data": {
      "text/plain": [
       "<Figure size 1920x1080 with 0 Axes>"
      ]
     },
     "metadata": {},
     "output_type": "display_data"
    },
    {
     "data": {
      "text/plain": [
       "<Figure size 1920x1080 with 0 Axes>"
      ]
     },
     "metadata": {},
     "output_type": "display_data"
    },
    {
     "data": {
      "text/plain": [
       "<Figure size 1920x1080 with 0 Axes>"
      ]
     },
     "metadata": {},
     "output_type": "display_data"
    },
    {
     "data": {
      "text/plain": [
       "<Figure size 1920x1080 with 0 Axes>"
      ]
     },
     "metadata": {},
     "output_type": "display_data"
    },
    {
     "data": {
      "text/plain": [
       "<Figure size 1920x1080 with 0 Axes>"
      ]
     },
     "metadata": {},
     "output_type": "display_data"
    },
    {
     "data": {
      "text/plain": [
       "<Figure size 1920x1080 with 0 Axes>"
      ]
     },
     "metadata": {},
     "output_type": "display_data"
    },
    {
     "data": {
      "text/plain": [
       "<Figure size 1920x1080 with 0 Axes>"
      ]
     },
     "metadata": {},
     "output_type": "display_data"
    },
    {
     "data": {
      "text/plain": [
       "<Figure size 1920x1080 with 0 Axes>"
      ]
     },
     "metadata": {},
     "output_type": "display_data"
    },
    {
     "data": {
      "text/plain": [
       "<Figure size 1920x1080 with 0 Axes>"
      ]
     },
     "metadata": {},
     "output_type": "display_data"
    },
    {
     "data": {
      "text/plain": [
       "<Figure size 1920x1080 with 0 Axes>"
      ]
     },
     "metadata": {},
     "output_type": "display_data"
    },
    {
     "data": {
      "text/plain": [
       "<Figure size 1920x1080 with 0 Axes>"
      ]
     },
     "metadata": {},
     "output_type": "display_data"
    },
    {
     "data": {
      "text/plain": [
       "<Figure size 1920x1080 with 0 Axes>"
      ]
     },
     "metadata": {},
     "output_type": "display_data"
    },
    {
     "data": {
      "text/plain": [
       "<Figure size 1920x1080 with 0 Axes>"
      ]
     },
     "metadata": {},
     "output_type": "display_data"
    },
    {
     "data": {
      "text/plain": [
       "<Figure size 1920x1080 with 0 Axes>"
      ]
     },
     "metadata": {},
     "output_type": "display_data"
    },
    {
     "data": {
      "text/plain": [
       "<Figure size 1920x1080 with 0 Axes>"
      ]
     },
     "metadata": {},
     "output_type": "display_data"
    },
    {
     "data": {
      "text/plain": [
       "<Figure size 1920x1080 with 0 Axes>"
      ]
     },
     "metadata": {},
     "output_type": "display_data"
    },
    {
     "data": {
      "text/plain": [
       "<Figure size 1920x1080 with 0 Axes>"
      ]
     },
     "metadata": {},
     "output_type": "display_data"
    },
    {
     "data": {
      "text/plain": [
       "<Figure size 1920x1080 with 0 Axes>"
      ]
     },
     "metadata": {},
     "output_type": "display_data"
    },
    {
     "data": {
      "text/plain": [
       "<Figure size 1920x1080 with 0 Axes>"
      ]
     },
     "metadata": {},
     "output_type": "display_data"
    },
    {
     "data": {
      "text/plain": [
       "<Figure size 1920x1080 with 0 Axes>"
      ]
     },
     "metadata": {},
     "output_type": "display_data"
    },
    {
     "data": {
      "text/plain": [
       "<Figure size 1920x1080 with 0 Axes>"
      ]
     },
     "metadata": {},
     "output_type": "display_data"
    },
    {
     "data": {
      "text/plain": [
       "<Figure size 1920x1080 with 0 Axes>"
      ]
     },
     "metadata": {},
     "output_type": "display_data"
    },
    {
     "data": {
      "text/plain": [
       "<Figure size 1920x1080 with 0 Axes>"
      ]
     },
     "metadata": {},
     "output_type": "display_data"
    },
    {
     "data": {
      "text/plain": [
       "<Figure size 1920x1080 with 0 Axes>"
      ]
     },
     "metadata": {},
     "output_type": "display_data"
    },
    {
     "data": {
      "text/plain": [
       "<Figure size 1920x1080 with 0 Axes>"
      ]
     },
     "metadata": {},
     "output_type": "display_data"
    },
    {
     "data": {
      "text/plain": [
       "<Figure size 1920x1080 with 0 Axes>"
      ]
     },
     "metadata": {},
     "output_type": "display_data"
    },
    {
     "data": {
      "text/plain": [
       "<Figure size 1920x1080 with 0 Axes>"
      ]
     },
     "metadata": {},
     "output_type": "display_data"
    },
    {
     "data": {
      "text/plain": [
       "<Figure size 1920x1080 with 0 Axes>"
      ]
     },
     "metadata": {},
     "output_type": "display_data"
    },
    {
     "data": {
      "text/plain": [
       "<Figure size 1920x1080 with 0 Axes>"
      ]
     },
     "metadata": {},
     "output_type": "display_data"
    },
    {
     "data": {
      "text/plain": [
       "<Figure size 1920x1080 with 0 Axes>"
      ]
     },
     "metadata": {},
     "output_type": "display_data"
    },
    {
     "data": {
      "text/plain": [
       "<Figure size 1920x1080 with 0 Axes>"
      ]
     },
     "metadata": {},
     "output_type": "display_data"
    },
    {
     "data": {
      "text/plain": [
       "<Figure size 1920x1080 with 0 Axes>"
      ]
     },
     "metadata": {},
     "output_type": "display_data"
    },
    {
     "data": {
      "text/plain": [
       "<Figure size 1920x1080 with 0 Axes>"
      ]
     },
     "metadata": {},
     "output_type": "display_data"
    },
    {
     "data": {
      "text/plain": [
       "<Figure size 1920x1080 with 0 Axes>"
      ]
     },
     "metadata": {},
     "output_type": "display_data"
    },
    {
     "data": {
      "text/plain": [
       "<Figure size 1920x1080 with 0 Axes>"
      ]
     },
     "metadata": {},
     "output_type": "display_data"
    },
    {
     "data": {
      "text/plain": [
       "<Figure size 1920x1080 with 0 Axes>"
      ]
     },
     "metadata": {},
     "output_type": "display_data"
    },
    {
     "data": {
      "text/plain": [
       "<Figure size 1920x1080 with 0 Axes>"
      ]
     },
     "metadata": {},
     "output_type": "display_data"
    },
    {
     "data": {
      "text/plain": [
       "<Figure size 1920x1080 with 0 Axes>"
      ]
     },
     "metadata": {},
     "output_type": "display_data"
    },
    {
     "data": {
      "text/plain": [
       "<Figure size 1920x1080 with 0 Axes>"
      ]
     },
     "metadata": {},
     "output_type": "display_data"
    },
    {
     "data": {
      "text/plain": [
       "<Figure size 1920x1080 with 0 Axes>"
      ]
     },
     "metadata": {},
     "output_type": "display_data"
    },
    {
     "data": {
      "text/plain": [
       "<Figure size 1920x1080 with 0 Axes>"
      ]
     },
     "metadata": {},
     "output_type": "display_data"
    }
   ],
   "source": [
    "# plotting: blue dots represent players, red dot represents the ball.\n",
    "plt.rcParams.update({'font.size': 30})\n",
    "for i in range(len(unique_timestamp)):\n",
    "    plt.figure(figsize = (19.2,10.8))\n",
    "    tf = df_image[df_image['datetime_resample'] == unique_timestamp[i]]\n",
    "    plt.scatter(tf[tf['player_id'] != 0]['Y_ave'],tf[tf['player_id'] != 0]['X_ave'], color='b', marker='o', s = 100)\n",
    "    plt.scatter(tf[tf['player_id'] == 0]['Y_ave'],tf[tf['player_id'] == 0]['X_ave'], color ='r', marker='o',  s = 100)\n",
    "    plt.xticks(np.arange(-60000, 60000+20000,step=20000))\n",
    "    plt.yticks(np.arange(-40000, 30000+10000,step=10000))\n",
    "    name = tf['datetime'].iloc[0].strftime('%Y-%m-%d %H:%M:%S.%f')[:-4]\n",
    "    plt.title('UTC ' + name)\n",
    "    plt.savefig('./images/' + str(i) + '.png')\n",
    "    plt.clf()"
   ]
  },
  {
   "cell_type": "code",
   "execution_count": 185,
   "id": "0bf3fa90",
   "metadata": {},
   "outputs": [],
   "source": [
    "video_name = 'usfl_game.avi'"
   ]
  },
  {
   "cell_type": "code",
   "execution_count": 186,
   "id": "de2ce492",
   "metadata": {},
   "outputs": [],
   "source": [
    "images = ['./images/' + str(i) + '.png' for i in range(len(unique_timestamp))]\n",
    "frame = cv2.imread(images[0])\n",
    "height, width, layers = frame.shape\n",
    "video = cv2.VideoWriter(video_name, 0, 20, (width,height))\n",
    "for image in images:\n",
    "    video.write(cv2.imread(image))\n",
    "cv2.destroyAllWindows()\n",
    "video.release()"
   ]
  }
 ],
 "metadata": {
  "kernelspec": {
   "display_name": "Python 3 (ipykernel)",
   "language": "python",
   "name": "python3"
  },
  "language_info": {
   "codemirror_mode": {
    "name": "ipython",
    "version": 3
   },
   "file_extension": ".py",
   "mimetype": "text/x-python",
   "name": "python",
   "nbconvert_exporter": "python",
   "pygments_lexer": "ipython3",
   "version": "3.10.0"
  }
 },
 "nbformat": 4,
 "nbformat_minor": 5
}

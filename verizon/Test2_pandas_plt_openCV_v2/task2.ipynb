{
 "cells": [
  {
   "cell_type": "code",
   "execution_count": 1,
   "id": "413071ee",
   "metadata": {},
   "outputs": [],
   "source": [
    "# Import libraries\n",
    "import pandas as pd\n",
    "import numpy as np\n",
    "\n",
    "import matplotlib as mpl\n",
    "import matplotlib.pyplot as plt\n",
    "%matplotlib inline\n",
    "import seaborn as sns\n",
    "\n",
    "import os\n",
    "import datetime\n",
    "\n",
    "#mpl.rcParams['figure.figsize'] = (10,4)"
   ]
  },
  {
   "cell_type": "code",
   "execution_count": 2,
   "id": "fc746640",
   "metadata": {},
   "outputs": [],
   "source": [
    "# Import data file\n",
    "column_names = ['event_timestamp','event_structure_version','event_type','game_clock','play_clock','stop_flag','tag_serial_number','player_id','X','Y','Z','distance','Vx','Vy','V','Ax','Ay','A','direction']\n",
    "df = pd.read_csv('sample5s.csv',names=column_names)"
   ]
  },
  {
   "cell_type": "code",
   "execution_count": 3,
   "id": "a7f96d05",
   "metadata": {},
   "outputs": [],
   "source": [
    "# Explorary data analysis"
   ]
  },
  {
   "cell_type": "code",
   "execution_count": 4,
   "id": "63443983",
   "metadata": {},
   "outputs": [
    {
     "data": {
      "text/html": [
       "<div>\n",
       "<style scoped>\n",
       "    .dataframe tbody tr th:only-of-type {\n",
       "        vertical-align: middle;\n",
       "    }\n",
       "\n",
       "    .dataframe tbody tr th {\n",
       "        vertical-align: top;\n",
       "    }\n",
       "\n",
       "    .dataframe thead th {\n",
       "        text-align: right;\n",
       "    }\n",
       "</style>\n",
       "<table border=\"1\" class=\"dataframe\">\n",
       "  <thead>\n",
       "    <tr style=\"text-align: right;\">\n",
       "      <th></th>\n",
       "      <th>event_timestamp</th>\n",
       "      <th>event_structure_version</th>\n",
       "      <th>event_type</th>\n",
       "      <th>game_clock</th>\n",
       "      <th>play_clock</th>\n",
       "      <th>stop_flag</th>\n",
       "      <th>tag_serial_number</th>\n",
       "      <th>player_id</th>\n",
       "      <th>X</th>\n",
       "      <th>Y</th>\n",
       "      <th>Z</th>\n",
       "      <th>distance</th>\n",
       "      <th>Vx</th>\n",
       "      <th>Vy</th>\n",
       "      <th>V</th>\n",
       "      <th>Ax</th>\n",
       "      <th>Ay</th>\n",
       "      <th>A</th>\n",
       "      <th>direction</th>\n",
       "    </tr>\n",
       "  </thead>\n",
       "  <tbody>\n",
       "    <tr>\n",
       "      <th>0</th>\n",
       "      <td>1652558856725</td>\n",
       "      <td>4</td>\n",
       "      <td>player</td>\n",
       "      <td>NaN</td>\n",
       "      <td>NaN</td>\n",
       "      <td>1</td>\n",
       "      <td>20150</td>\n",
       "      <td>136529.0</td>\n",
       "      <td>33038</td>\n",
       "      <td>-17436</td>\n",
       "      <td>933.0</td>\n",
       "      <td>2.1850</td>\n",
       "      <td>-0.11</td>\n",
       "      <td>-0.02</td>\n",
       "      <td>0.21</td>\n",
       "      <td>-0.00</td>\n",
       "      <td>-0.00</td>\n",
       "      <td>0.00</td>\n",
       "      <td>-167.91</td>\n",
       "    </tr>\n",
       "    <tr>\n",
       "      <th>1</th>\n",
       "      <td>1652558857910</td>\n",
       "      <td>4</td>\n",
       "      <td>player</td>\n",
       "      <td>NaN</td>\n",
       "      <td>NaN</td>\n",
       "      <td>1</td>\n",
       "      <td>20285</td>\n",
       "      <td>136531.0</td>\n",
       "      <td>-4856</td>\n",
       "      <td>-9452</td>\n",
       "      <td>1693.0</td>\n",
       "      <td>2.3466</td>\n",
       "      <td>-0.66</td>\n",
       "      <td>-2.34</td>\n",
       "      <td>2.51</td>\n",
       "      <td>-0.00</td>\n",
       "      <td>0.00</td>\n",
       "      <td>0.01</td>\n",
       "      <td>-105.78</td>\n",
       "    </tr>\n",
       "    <tr>\n",
       "      <th>2</th>\n",
       "      <td>1652558857168</td>\n",
       "      <td>4</td>\n",
       "      <td>player</td>\n",
       "      <td>NaN</td>\n",
       "      <td>NaN</td>\n",
       "      <td>1</td>\n",
       "      <td>20195</td>\n",
       "      <td>136543.0</td>\n",
       "      <td>32901</td>\n",
       "      <td>17404</td>\n",
       "      <td>1232.0</td>\n",
       "      <td>3.2877</td>\n",
       "      <td>-0.20</td>\n",
       "      <td>0.18</td>\n",
       "      <td>0.29</td>\n",
       "      <td>-0.00</td>\n",
       "      <td>0.00</td>\n",
       "      <td>0.00</td>\n",
       "      <td>136.81</td>\n",
       "    </tr>\n",
       "    <tr>\n",
       "      <th>3</th>\n",
       "      <td>1652558859897</td>\n",
       "      <td>4</td>\n",
       "      <td>player</td>\n",
       "      <td>NaN</td>\n",
       "      <td>NaN</td>\n",
       "      <td>1</td>\n",
       "      <td>20262</td>\n",
       "      <td>138136.0</td>\n",
       "      <td>-27617</td>\n",
       "      <td>-6218</td>\n",
       "      <td>805.0</td>\n",
       "      <td>2.7404</td>\n",
       "      <td>0.08</td>\n",
       "      <td>-0.09</td>\n",
       "      <td>0.67</td>\n",
       "      <td>-0.01</td>\n",
       "      <td>-0.00</td>\n",
       "      <td>0.01</td>\n",
       "      <td>-49.18</td>\n",
       "    </tr>\n",
       "    <tr>\n",
       "      <th>4</th>\n",
       "      <td>1652558855809</td>\n",
       "      <td>4</td>\n",
       "      <td>player</td>\n",
       "      <td>NaN</td>\n",
       "      <td>NaN</td>\n",
       "      <td>1</td>\n",
       "      <td>20127</td>\n",
       "      <td>136514.0</td>\n",
       "      <td>-2204</td>\n",
       "      <td>2092</td>\n",
       "      <td>1739.0</td>\n",
       "      <td>2.4634</td>\n",
       "      <td>-4.79</td>\n",
       "      <td>2.31</td>\n",
       "      <td>5.43</td>\n",
       "      <td>0.00</td>\n",
       "      <td>0.01</td>\n",
       "      <td>0.01</td>\n",
       "      <td>154.26</td>\n",
       "    </tr>\n",
       "  </tbody>\n",
       "</table>\n",
       "</div>"
      ],
      "text/plain": [
       "   event_timestamp  event_structure_version event_type  game_clock  \\\n",
       "0    1652558856725                        4     player         NaN   \n",
       "1    1652558857910                        4     player         NaN   \n",
       "2    1652558857168                        4     player         NaN   \n",
       "3    1652558859897                        4     player         NaN   \n",
       "4    1652558855809                        4     player         NaN   \n",
       "\n",
       "   play_clock  stop_flag  tag_serial_number  player_id      X      Y       Z  \\\n",
       "0         NaN          1              20150   136529.0  33038 -17436   933.0   \n",
       "1         NaN          1              20285   136531.0  -4856  -9452  1693.0   \n",
       "2         NaN          1              20195   136543.0  32901  17404  1232.0   \n",
       "3         NaN          1              20262   138136.0 -27617  -6218   805.0   \n",
       "4         NaN          1              20127   136514.0  -2204   2092  1739.0   \n",
       "\n",
       "   distance    Vx    Vy     V    Ax    Ay     A  direction  \n",
       "0    2.1850 -0.11 -0.02  0.21 -0.00 -0.00  0.00    -167.91  \n",
       "1    2.3466 -0.66 -2.34  2.51 -0.00  0.00  0.01    -105.78  \n",
       "2    3.2877 -0.20  0.18  0.29 -0.00  0.00  0.00     136.81  \n",
       "3    2.7404  0.08 -0.09  0.67 -0.01 -0.00  0.01     -49.18  \n",
       "4    2.4634 -4.79  2.31  5.43  0.00  0.01  0.01     154.26  "
      ]
     },
     "execution_count": 4,
     "metadata": {},
     "output_type": "execute_result"
    }
   ],
   "source": [
    "df.head()"
   ]
  },
  {
   "cell_type": "code",
   "execution_count": 5,
   "id": "4334473f",
   "metadata": {},
   "outputs": [
    {
     "name": "stdout",
     "output_type": "stream",
     "text": [
      "<class 'pandas.core.frame.DataFrame'>\n",
      "RangeIndex: 10583 entries, 0 to 10582\n",
      "Data columns (total 19 columns):\n",
      " #   Column                   Non-Null Count  Dtype  \n",
      "---  ------                   --------------  -----  \n",
      " 0   event_timestamp          10583 non-null  int64  \n",
      " 1   event_structure_version  10583 non-null  int64  \n",
      " 2   event_type               10583 non-null  object \n",
      " 3   game_clock               0 non-null      float64\n",
      " 4   play_clock               0 non-null      float64\n",
      " 5   stop_flag                10583 non-null  int64  \n",
      " 6   tag_serial_number        10583 non-null  int64  \n",
      " 7   player_id                9983 non-null   float64\n",
      " 8   X                        10583 non-null  int64  \n",
      " 9   Y                        10583 non-null  int64  \n",
      " 10  Z                        10583 non-null  float64\n",
      " 11  distance                 10583 non-null  float64\n",
      " 12  Vx                       10583 non-null  float64\n",
      " 13  Vy                       10583 non-null  float64\n",
      " 14  V                        10583 non-null  float64\n",
      " 15  Ax                       10583 non-null  float64\n",
      " 16  Ay                       10583 non-null  float64\n",
      " 17  A                        10583 non-null  float64\n",
      " 18  direction                7783 non-null   float64\n",
      "dtypes: float64(12), int64(6), object(1)\n",
      "memory usage: 1.5+ MB\n"
     ]
    }
   ],
   "source": [
    "df.info()"
   ]
  },
  {
   "cell_type": "code",
   "execution_count": 6,
   "id": "2253c4f1",
   "metadata": {},
   "outputs": [
    {
     "name": "stdout",
     "output_type": "stream",
     "text": [
      "<class 'pandas.core.frame.DataFrame'>\n",
      "Int64Index: 7783 entries, 0 to 10581\n",
      "Data columns (total 19 columns):\n",
      " #   Column                   Non-Null Count  Dtype  \n",
      "---  ------                   --------------  -----  \n",
      " 0   event_timestamp          7783 non-null   int64  \n",
      " 1   event_structure_version  7783 non-null   int64  \n",
      " 2   event_type               7783 non-null   object \n",
      " 3   game_clock               0 non-null      float64\n",
      " 4   play_clock               0 non-null      float64\n",
      " 5   stop_flag                7783 non-null   int64  \n",
      " 6   tag_serial_number        7783 non-null   int64  \n",
      " 7   player_id                7183 non-null   float64\n",
      " 8   X                        7783 non-null   int64  \n",
      " 9   Y                        7783 non-null   int64  \n",
      " 10  Z                        7783 non-null   float64\n",
      " 11  distance                 7783 non-null   float64\n",
      " 12  Vx                       7783 non-null   float64\n",
      " 13  Vy                       7783 non-null   float64\n",
      " 14  V                        7783 non-null   float64\n",
      " 15  Ax                       7783 non-null   float64\n",
      " 16  Ay                       7783 non-null   float64\n",
      " 17  A                        7783 non-null   float64\n",
      " 18  direction                7783 non-null   float64\n",
      "dtypes: float64(12), int64(6), object(1)\n",
      "memory usage: 1.2+ MB\n"
     ]
    }
   ],
   "source": [
    "player = df[df['event_type'] == 'player']\n",
    "player.info()"
   ]
  },
  {
   "cell_type": "code",
   "execution_count": 7,
   "id": "38d2aef2",
   "metadata": {},
   "outputs": [
    {
     "data": {
      "text/html": [
       "<div>\n",
       "<style scoped>\n",
       "    .dataframe tbody tr th:only-of-type {\n",
       "        vertical-align: middle;\n",
       "    }\n",
       "\n",
       "    .dataframe tbody tr th {\n",
       "        vertical-align: top;\n",
       "    }\n",
       "\n",
       "    .dataframe thead th {\n",
       "        text-align: right;\n",
       "    }\n",
       "</style>\n",
       "<table border=\"1\" class=\"dataframe\">\n",
       "  <thead>\n",
       "    <tr style=\"text-align: right;\">\n",
       "      <th></th>\n",
       "      <th>event_timestamp</th>\n",
       "      <th>tag_serial_number</th>\n",
       "      <th>player_id</th>\n",
       "      <th>X</th>\n",
       "      <th>Y</th>\n",
       "    </tr>\n",
       "  </thead>\n",
       "  <tbody>\n",
       "    <tr>\n",
       "      <th>0</th>\n",
       "      <td>1652558856725</td>\n",
       "      <td>20150</td>\n",
       "      <td>136529.0</td>\n",
       "      <td>33038</td>\n",
       "      <td>-17436</td>\n",
       "    </tr>\n",
       "    <tr>\n",
       "      <th>1</th>\n",
       "      <td>1652558857910</td>\n",
       "      <td>20285</td>\n",
       "      <td>136531.0</td>\n",
       "      <td>-4856</td>\n",
       "      <td>-9452</td>\n",
       "    </tr>\n",
       "    <tr>\n",
       "      <th>2</th>\n",
       "      <td>1652558857168</td>\n",
       "      <td>20195</td>\n",
       "      <td>136543.0</td>\n",
       "      <td>32901</td>\n",
       "      <td>17404</td>\n",
       "    </tr>\n",
       "    <tr>\n",
       "      <th>3</th>\n",
       "      <td>1652558859897</td>\n",
       "      <td>20262</td>\n",
       "      <td>138136.0</td>\n",
       "      <td>-27617</td>\n",
       "      <td>-6218</td>\n",
       "    </tr>\n",
       "    <tr>\n",
       "      <th>4</th>\n",
       "      <td>1652558855809</td>\n",
       "      <td>20127</td>\n",
       "      <td>136514.0</td>\n",
       "      <td>-2204</td>\n",
       "      <td>2092</td>\n",
       "    </tr>\n",
       "  </tbody>\n",
       "</table>\n",
       "</div>"
      ],
      "text/plain": [
       "   event_timestamp  tag_serial_number  player_id      X      Y\n",
       "0    1652558856725              20150   136529.0  33038 -17436\n",
       "1    1652558857910              20285   136531.0  -4856  -9452\n",
       "2    1652558857168              20195   136543.0  32901  17404\n",
       "3    1652558859897              20262   138136.0 -27617  -6218\n",
       "4    1652558855809              20127   136514.0  -2204   2092"
      ]
     },
     "execution_count": 7,
     "metadata": {},
     "output_type": "execute_result"
    }
   ],
   "source": [
    "player = player[['event_timestamp','tag_serial_number','player_id','X','Y']]\n",
    "player.head()"
   ]
  },
  {
   "cell_type": "code",
   "execution_count": 8,
   "id": "ab8e8e47",
   "metadata": {},
   "outputs": [
    {
     "name": "stdout",
     "output_type": "stream",
     "text": [
      "<class 'pandas.core.frame.DataFrame'>\n",
      "Int64Index: 2800 entries, 5 to 10582\n",
      "Data columns (total 19 columns):\n",
      " #   Column                   Non-Null Count  Dtype  \n",
      "---  ------                   --------------  -----  \n",
      " 0   event_timestamp          2800 non-null   int64  \n",
      " 1   event_structure_version  2800 non-null   int64  \n",
      " 2   event_type               2800 non-null   object \n",
      " 3   game_clock               0 non-null      float64\n",
      " 4   play_clock               0 non-null      float64\n",
      " 5   stop_flag                2800 non-null   int64  \n",
      " 6   tag_serial_number        2800 non-null   int64  \n",
      " 7   player_id                2800 non-null   float64\n",
      " 8   X                        2800 non-null   int64  \n",
      " 9   Y                        2800 non-null   int64  \n",
      " 10  Z                        2800 non-null   float64\n",
      " 11  distance                 2800 non-null   float64\n",
      " 12  Vx                       2800 non-null   float64\n",
      " 13  Vy                       2800 non-null   float64\n",
      " 14  V                        2800 non-null   float64\n",
      " 15  Ax                       2800 non-null   float64\n",
      " 16  Ay                       2800 non-null   float64\n",
      " 17  A                        2800 non-null   float64\n",
      " 18  direction                0 non-null      float64\n",
      "dtypes: float64(12), int64(6), object(1)\n",
      "memory usage: 437.5+ KB\n"
     ]
    }
   ],
   "source": [
    "ball = df[df['event_type'] == 'ball']\n",
    "ball.info()"
   ]
  },
  {
   "cell_type": "code",
   "execution_count": 9,
   "id": "d7f79b58",
   "metadata": {},
   "outputs": [],
   "source": [
    "ball_columns_name = ['event_timestamp','event_structure_version','event_type','game_clock','play_clock','stop_flag','tag_serial_number','X','Y','Z','distance','Vx','Vy','V','Ax','Ay','A','direction']\n",
    "ball = ball.drop(ball.columns[-1],axis=1)"
   ]
  },
  {
   "cell_type": "code",
   "execution_count": 10,
   "id": "47554d24",
   "metadata": {},
   "outputs": [],
   "source": [
    "ball = ball.set_axis(ball_columns_name,axis=1)"
   ]
  },
  {
   "cell_type": "code",
   "execution_count": 11,
   "id": "74c3e133",
   "metadata": {},
   "outputs": [
    {
     "data": {
      "text/html": [
       "<div>\n",
       "<style scoped>\n",
       "    .dataframe tbody tr th:only-of-type {\n",
       "        vertical-align: middle;\n",
       "    }\n",
       "\n",
       "    .dataframe tbody tr th {\n",
       "        vertical-align: top;\n",
       "    }\n",
       "\n",
       "    .dataframe thead th {\n",
       "        text-align: right;\n",
       "    }\n",
       "</style>\n",
       "<table border=\"1\" class=\"dataframe\">\n",
       "  <thead>\n",
       "    <tr style=\"text-align: right;\">\n",
       "      <th></th>\n",
       "      <th>event_timestamp</th>\n",
       "      <th>tag_serial_number</th>\n",
       "      <th>X</th>\n",
       "      <th>Y</th>\n",
       "      <th>player_id</th>\n",
       "    </tr>\n",
       "  </thead>\n",
       "  <tbody>\n",
       "    <tr>\n",
       "      <th>5</th>\n",
       "      <td>1652558859721</td>\n",
       "      <td>2147582624</td>\n",
       "      <td>-26243.0</td>\n",
       "      <td>-14777</td>\n",
       "      <td>0</td>\n",
       "    </tr>\n",
       "    <tr>\n",
       "      <th>9</th>\n",
       "      <td>1652558859654</td>\n",
       "      <td>2147578827</td>\n",
       "      <td>-27035.0</td>\n",
       "      <td>3368</td>\n",
       "      <td>0</td>\n",
       "    </tr>\n",
       "    <tr>\n",
       "      <th>10</th>\n",
       "      <td>1652558856653</td>\n",
       "      <td>2147585778</td>\n",
       "      <td>-26260.0</td>\n",
       "      <td>-14604</td>\n",
       "      <td>0</td>\n",
       "    </tr>\n",
       "    <tr>\n",
       "      <th>18</th>\n",
       "      <td>1652558855704</td>\n",
       "      <td>2147567164</td>\n",
       "      <td>26456.0</td>\n",
       "      <td>-4011</td>\n",
       "      <td>0</td>\n",
       "    </tr>\n",
       "    <tr>\n",
       "      <th>19</th>\n",
       "      <td>1652558855080</td>\n",
       "      <td>2147567164</td>\n",
       "      <td>26429.0</td>\n",
       "      <td>-3935</td>\n",
       "      <td>0</td>\n",
       "    </tr>\n",
       "  </tbody>\n",
       "</table>\n",
       "</div>"
      ],
      "text/plain": [
       "    event_timestamp  tag_serial_number        X      Y  player_id\n",
       "5     1652558859721         2147582624 -26243.0 -14777          0\n",
       "9     1652558859654         2147578827 -27035.0   3368          0\n",
       "10    1652558856653         2147585778 -26260.0 -14604          0\n",
       "18    1652558855704         2147567164  26456.0  -4011          0\n",
       "19    1652558855080         2147567164  26429.0  -3935          0"
      ]
     },
     "execution_count": 11,
     "metadata": {},
     "output_type": "execute_result"
    }
   ],
   "source": [
    "ball = ball[['event_timestamp','tag_serial_number','X','Y']]\n",
    "ball['player_id'] = 0\n",
    "ball.head()"
   ]
  },
  {
   "cell_type": "code",
   "execution_count": 12,
   "id": "a3607a09",
   "metadata": {},
   "outputs": [
    {
     "data": {
      "text/html": [
       "<div>\n",
       "<style scoped>\n",
       "    .dataframe tbody tr th:only-of-type {\n",
       "        vertical-align: middle;\n",
       "    }\n",
       "\n",
       "    .dataframe tbody tr th {\n",
       "        vertical-align: top;\n",
       "    }\n",
       "\n",
       "    .dataframe thead th {\n",
       "        text-align: right;\n",
       "    }\n",
       "</style>\n",
       "<table border=\"1\" class=\"dataframe\">\n",
       "  <thead>\n",
       "    <tr style=\"text-align: right;\">\n",
       "      <th></th>\n",
       "      <th>event_timestamp</th>\n",
       "      <th>tag_serial_number</th>\n",
       "      <th>player_id</th>\n",
       "      <th>X</th>\n",
       "      <th>Y</th>\n",
       "    </tr>\n",
       "  </thead>\n",
       "  <tbody>\n",
       "    <tr>\n",
       "      <th>5</th>\n",
       "      <td>1652558859721</td>\n",
       "      <td>2147582624</td>\n",
       "      <td>0</td>\n",
       "      <td>-26243.0</td>\n",
       "      <td>-14777</td>\n",
       "    </tr>\n",
       "    <tr>\n",
       "      <th>9</th>\n",
       "      <td>1652558859654</td>\n",
       "      <td>2147578827</td>\n",
       "      <td>0</td>\n",
       "      <td>-27035.0</td>\n",
       "      <td>3368</td>\n",
       "    </tr>\n",
       "    <tr>\n",
       "      <th>10</th>\n",
       "      <td>1652558856653</td>\n",
       "      <td>2147585778</td>\n",
       "      <td>0</td>\n",
       "      <td>-26260.0</td>\n",
       "      <td>-14604</td>\n",
       "    </tr>\n",
       "    <tr>\n",
       "      <th>18</th>\n",
       "      <td>1652558855704</td>\n",
       "      <td>2147567164</td>\n",
       "      <td>0</td>\n",
       "      <td>26456.0</td>\n",
       "      <td>-4011</td>\n",
       "    </tr>\n",
       "    <tr>\n",
       "      <th>19</th>\n",
       "      <td>1652558855080</td>\n",
       "      <td>2147567164</td>\n",
       "      <td>0</td>\n",
       "      <td>26429.0</td>\n",
       "      <td>-3935</td>\n",
       "    </tr>\n",
       "    <tr>\n",
       "      <th>...</th>\n",
       "      <td>...</td>\n",
       "      <td>...</td>\n",
       "      <td>...</td>\n",
       "      <td>...</td>\n",
       "      <td>...</td>\n",
       "    </tr>\n",
       "    <tr>\n",
       "      <th>10559</th>\n",
       "      <td>1652558859855</td>\n",
       "      <td>2147577865</td>\n",
       "      <td>0</td>\n",
       "      <td>-32853.0</td>\n",
       "      <td>24811</td>\n",
       "    </tr>\n",
       "    <tr>\n",
       "      <th>10570</th>\n",
       "      <td>1652558856929</td>\n",
       "      <td>2147567164</td>\n",
       "      <td>0</td>\n",
       "      <td>26423.0</td>\n",
       "      <td>-3868</td>\n",
       "    </tr>\n",
       "    <tr>\n",
       "      <th>10574</th>\n",
       "      <td>1652558857880</td>\n",
       "      <td>2147586306</td>\n",
       "      <td>0</td>\n",
       "      <td>-32622.0</td>\n",
       "      <td>24808</td>\n",
       "    </tr>\n",
       "    <tr>\n",
       "      <th>10578</th>\n",
       "      <td>1652558858055</td>\n",
       "      <td>2147586306</td>\n",
       "      <td>0</td>\n",
       "      <td>-32617.0</td>\n",
       "      <td>24805</td>\n",
       "    </tr>\n",
       "    <tr>\n",
       "      <th>10582</th>\n",
       "      <td>1652558857746</td>\n",
       "      <td>2147586707</td>\n",
       "      <td>0</td>\n",
       "      <td>25743.0</td>\n",
       "      <td>-6603</td>\n",
       "    </tr>\n",
       "  </tbody>\n",
       "</table>\n",
       "<p>2800 rows × 5 columns</p>\n",
       "</div>"
      ],
      "text/plain": [
       "       event_timestamp  tag_serial_number  player_id        X      Y\n",
       "5        1652558859721         2147582624          0 -26243.0 -14777\n",
       "9        1652558859654         2147578827          0 -27035.0   3368\n",
       "10       1652558856653         2147585778          0 -26260.0 -14604\n",
       "18       1652558855704         2147567164          0  26456.0  -4011\n",
       "19       1652558855080         2147567164          0  26429.0  -3935\n",
       "...                ...                ...        ...      ...    ...\n",
       "10559    1652558859855         2147577865          0 -32853.0  24811\n",
       "10570    1652558856929         2147567164          0  26423.0  -3868\n",
       "10574    1652558857880         2147586306          0 -32622.0  24808\n",
       "10578    1652558858055         2147586306          0 -32617.0  24805\n",
       "10582    1652558857746         2147586707          0  25743.0  -6603\n",
       "\n",
       "[2800 rows x 5 columns]"
      ]
     },
     "execution_count": 12,
     "metadata": {},
     "output_type": "execute_result"
    }
   ],
   "source": [
    "ball = ball[['event_timestamp','tag_serial_number', 'player_id', 'X', 'Y']]\n",
    "ball"
   ]
  },
  {
   "cell_type": "code",
   "execution_count": 13,
   "id": "923eb278",
   "metadata": {},
   "outputs": [
    {
     "data": {
      "text/html": [
       "<div>\n",
       "<style scoped>\n",
       "    .dataframe tbody tr th:only-of-type {\n",
       "        vertical-align: middle;\n",
       "    }\n",
       "\n",
       "    .dataframe tbody tr th {\n",
       "        vertical-align: top;\n",
       "    }\n",
       "\n",
       "    .dataframe thead th {\n",
       "        text-align: right;\n",
       "    }\n",
       "</style>\n",
       "<table border=\"1\" class=\"dataframe\">\n",
       "  <thead>\n",
       "    <tr style=\"text-align: right;\">\n",
       "      <th></th>\n",
       "      <th>event_timestamp</th>\n",
       "      <th>tag_serial_number</th>\n",
       "      <th>player_id</th>\n",
       "      <th>X</th>\n",
       "      <th>Y</th>\n",
       "    </tr>\n",
       "  </thead>\n",
       "  <tbody>\n",
       "    <tr>\n",
       "      <th>0</th>\n",
       "      <td>1652558856725</td>\n",
       "      <td>20150</td>\n",
       "      <td>136529.0</td>\n",
       "      <td>33038.0</td>\n",
       "      <td>-17436</td>\n",
       "    </tr>\n",
       "    <tr>\n",
       "      <th>1</th>\n",
       "      <td>1652558857910</td>\n",
       "      <td>20285</td>\n",
       "      <td>136531.0</td>\n",
       "      <td>-4856.0</td>\n",
       "      <td>-9452</td>\n",
       "    </tr>\n",
       "    <tr>\n",
       "      <th>2</th>\n",
       "      <td>1652558857168</td>\n",
       "      <td>20195</td>\n",
       "      <td>136543.0</td>\n",
       "      <td>32901.0</td>\n",
       "      <td>17404</td>\n",
       "    </tr>\n",
       "    <tr>\n",
       "      <th>3</th>\n",
       "      <td>1652558859897</td>\n",
       "      <td>20262</td>\n",
       "      <td>138136.0</td>\n",
       "      <td>-27617.0</td>\n",
       "      <td>-6218</td>\n",
       "    </tr>\n",
       "    <tr>\n",
       "      <th>4</th>\n",
       "      <td>1652558855809</td>\n",
       "      <td>20127</td>\n",
       "      <td>136514.0</td>\n",
       "      <td>-2204.0</td>\n",
       "      <td>2092</td>\n",
       "    </tr>\n",
       "    <tr>\n",
       "      <th>...</th>\n",
       "      <td>...</td>\n",
       "      <td>...</td>\n",
       "      <td>...</td>\n",
       "      <td>...</td>\n",
       "      <td>...</td>\n",
       "    </tr>\n",
       "    <tr>\n",
       "      <th>10559</th>\n",
       "      <td>1652558859855</td>\n",
       "      <td>2147577865</td>\n",
       "      <td>0.0</td>\n",
       "      <td>-32853.0</td>\n",
       "      <td>24811</td>\n",
       "    </tr>\n",
       "    <tr>\n",
       "      <th>10570</th>\n",
       "      <td>1652558856929</td>\n",
       "      <td>2147567164</td>\n",
       "      <td>0.0</td>\n",
       "      <td>26423.0</td>\n",
       "      <td>-3868</td>\n",
       "    </tr>\n",
       "    <tr>\n",
       "      <th>10574</th>\n",
       "      <td>1652558857880</td>\n",
       "      <td>2147586306</td>\n",
       "      <td>0.0</td>\n",
       "      <td>-32622.0</td>\n",
       "      <td>24808</td>\n",
       "    </tr>\n",
       "    <tr>\n",
       "      <th>10578</th>\n",
       "      <td>1652558858055</td>\n",
       "      <td>2147586306</td>\n",
       "      <td>0.0</td>\n",
       "      <td>-32617.0</td>\n",
       "      <td>24805</td>\n",
       "    </tr>\n",
       "    <tr>\n",
       "      <th>10582</th>\n",
       "      <td>1652558857746</td>\n",
       "      <td>2147586707</td>\n",
       "      <td>0.0</td>\n",
       "      <td>25743.0</td>\n",
       "      <td>-6603</td>\n",
       "    </tr>\n",
       "  </tbody>\n",
       "</table>\n",
       "<p>10583 rows × 5 columns</p>\n",
       "</div>"
      ],
      "text/plain": [
       "       event_timestamp  tag_serial_number  player_id        X      Y\n",
       "0        1652558856725              20150   136529.0  33038.0 -17436\n",
       "1        1652558857910              20285   136531.0  -4856.0  -9452\n",
       "2        1652558857168              20195   136543.0  32901.0  17404\n",
       "3        1652558859897              20262   138136.0 -27617.0  -6218\n",
       "4        1652558855809              20127   136514.0  -2204.0   2092\n",
       "...                ...                ...        ...      ...    ...\n",
       "10559    1652558859855         2147577865        0.0 -32853.0  24811\n",
       "10570    1652558856929         2147567164        0.0  26423.0  -3868\n",
       "10574    1652558857880         2147586306        0.0 -32622.0  24808\n",
       "10578    1652558858055         2147586306        0.0 -32617.0  24805\n",
       "10582    1652558857746         2147586707        0.0  25743.0  -6603\n",
       "\n",
       "[10583 rows x 5 columns]"
      ]
     },
     "execution_count": 13,
     "metadata": {},
     "output_type": "execute_result"
    }
   ],
   "source": [
    "new_df = pd.concat([player,ball],axis=0)\n",
    "new_df"
   ]
  },
  {
   "cell_type": "code",
   "execution_count": 14,
   "id": "84c5d08f",
   "metadata": {},
   "outputs": [
    {
     "data": {
      "text/html": [
       "<div>\n",
       "<style scoped>\n",
       "    .dataframe tbody tr th:only-of-type {\n",
       "        vertical-align: middle;\n",
       "    }\n",
       "\n",
       "    .dataframe tbody tr th {\n",
       "        vertical-align: top;\n",
       "    }\n",
       "\n",
       "    .dataframe thead th {\n",
       "        text-align: right;\n",
       "    }\n",
       "</style>\n",
       "<table border=\"1\" class=\"dataframe\">\n",
       "  <thead>\n",
       "    <tr style=\"text-align: right;\">\n",
       "      <th></th>\n",
       "      <th>event_timestamp</th>\n",
       "      <th>tag_serial_number</th>\n",
       "      <th>player_id</th>\n",
       "      <th>X</th>\n",
       "      <th>Y</th>\n",
       "      <th>timestamp_resample</th>\n",
       "      <th>datetime</th>\n",
       "      <th>datetime_resample</th>\n",
       "    </tr>\n",
       "  </thead>\n",
       "  <tbody>\n",
       "    <tr>\n",
       "      <th>0</th>\n",
       "      <td>1652558856725</td>\n",
       "      <td>20150</td>\n",
       "      <td>136529.0</td>\n",
       "      <td>33038.0</td>\n",
       "      <td>-17436</td>\n",
       "      <td>1652558856700</td>\n",
       "      <td>2022-05-14 20:07:36.725000+00:00</td>\n",
       "      <td>2022-05-14 20:07:36.700000+00:00</td>\n",
       "    </tr>\n",
       "    <tr>\n",
       "      <th>1</th>\n",
       "      <td>1652558857910</td>\n",
       "      <td>20285</td>\n",
       "      <td>136531.0</td>\n",
       "      <td>-4856.0</td>\n",
       "      <td>-9452</td>\n",
       "      <td>1652558857900</td>\n",
       "      <td>2022-05-14 20:07:37.910000+00:00</td>\n",
       "      <td>2022-05-14 20:07:37.900000+00:00</td>\n",
       "    </tr>\n",
       "    <tr>\n",
       "      <th>2</th>\n",
       "      <td>1652558857168</td>\n",
       "      <td>20195</td>\n",
       "      <td>136543.0</td>\n",
       "      <td>32901.0</td>\n",
       "      <td>17404</td>\n",
       "      <td>1652558857150</td>\n",
       "      <td>2022-05-14 20:07:37.168000+00:00</td>\n",
       "      <td>2022-05-14 20:07:37.150000+00:00</td>\n",
       "    </tr>\n",
       "    <tr>\n",
       "      <th>3</th>\n",
       "      <td>1652558859897</td>\n",
       "      <td>20262</td>\n",
       "      <td>138136.0</td>\n",
       "      <td>-27617.0</td>\n",
       "      <td>-6218</td>\n",
       "      <td>1652558859850</td>\n",
       "      <td>2022-05-14 20:07:39.897000+00:00</td>\n",
       "      <td>2022-05-14 20:07:39.850000+00:00</td>\n",
       "    </tr>\n",
       "    <tr>\n",
       "      <th>4</th>\n",
       "      <td>1652558855809</td>\n",
       "      <td>20127</td>\n",
       "      <td>136514.0</td>\n",
       "      <td>-2204.0</td>\n",
       "      <td>2092</td>\n",
       "      <td>1652558855800</td>\n",
       "      <td>2022-05-14 20:07:35.809000+00:00</td>\n",
       "      <td>2022-05-14 20:07:35.800000+00:00</td>\n",
       "    </tr>\n",
       "    <tr>\n",
       "      <th>...</th>\n",
       "      <td>...</td>\n",
       "      <td>...</td>\n",
       "      <td>...</td>\n",
       "      <td>...</td>\n",
       "      <td>...</td>\n",
       "      <td>...</td>\n",
       "      <td>...</td>\n",
       "      <td>...</td>\n",
       "    </tr>\n",
       "    <tr>\n",
       "      <th>10559</th>\n",
       "      <td>1652558859855</td>\n",
       "      <td>2147577865</td>\n",
       "      <td>0.0</td>\n",
       "      <td>-32853.0</td>\n",
       "      <td>24811</td>\n",
       "      <td>1652558859850</td>\n",
       "      <td>2022-05-14 20:07:39.855000+00:00</td>\n",
       "      <td>2022-05-14 20:07:39.850000+00:00</td>\n",
       "    </tr>\n",
       "    <tr>\n",
       "      <th>10570</th>\n",
       "      <td>1652558856929</td>\n",
       "      <td>2147567164</td>\n",
       "      <td>0.0</td>\n",
       "      <td>26423.0</td>\n",
       "      <td>-3868</td>\n",
       "      <td>1652558856900</td>\n",
       "      <td>2022-05-14 20:07:36.929000+00:00</td>\n",
       "      <td>2022-05-14 20:07:36.900000+00:00</td>\n",
       "    </tr>\n",
       "    <tr>\n",
       "      <th>10574</th>\n",
       "      <td>1652558857880</td>\n",
       "      <td>2147586306</td>\n",
       "      <td>0.0</td>\n",
       "      <td>-32622.0</td>\n",
       "      <td>24808</td>\n",
       "      <td>1652558857850</td>\n",
       "      <td>2022-05-14 20:07:37.880000+00:00</td>\n",
       "      <td>2022-05-14 20:07:37.850000+00:00</td>\n",
       "    </tr>\n",
       "    <tr>\n",
       "      <th>10578</th>\n",
       "      <td>1652558858055</td>\n",
       "      <td>2147586306</td>\n",
       "      <td>0.0</td>\n",
       "      <td>-32617.0</td>\n",
       "      <td>24805</td>\n",
       "      <td>1652558858050</td>\n",
       "      <td>2022-05-14 20:07:38.055000+00:00</td>\n",
       "      <td>2022-05-14 20:07:38.050000+00:00</td>\n",
       "    </tr>\n",
       "    <tr>\n",
       "      <th>10582</th>\n",
       "      <td>1652558857746</td>\n",
       "      <td>2147586707</td>\n",
       "      <td>0.0</td>\n",
       "      <td>25743.0</td>\n",
       "      <td>-6603</td>\n",
       "      <td>1652558857700</td>\n",
       "      <td>2022-05-14 20:07:37.746000+00:00</td>\n",
       "      <td>2022-05-14 20:07:37.700000+00:00</td>\n",
       "    </tr>\n",
       "  </tbody>\n",
       "</table>\n",
       "<p>10583 rows × 8 columns</p>\n",
       "</div>"
      ],
      "text/plain": [
       "       event_timestamp  tag_serial_number  player_id        X      Y  \\\n",
       "0        1652558856725              20150   136529.0  33038.0 -17436   \n",
       "1        1652558857910              20285   136531.0  -4856.0  -9452   \n",
       "2        1652558857168              20195   136543.0  32901.0  17404   \n",
       "3        1652558859897              20262   138136.0 -27617.0  -6218   \n",
       "4        1652558855809              20127   136514.0  -2204.0   2092   \n",
       "...                ...                ...        ...      ...    ...   \n",
       "10559    1652558859855         2147577865        0.0 -32853.0  24811   \n",
       "10570    1652558856929         2147567164        0.0  26423.0  -3868   \n",
       "10574    1652558857880         2147586306        0.0 -32622.0  24808   \n",
       "10578    1652558858055         2147586306        0.0 -32617.0  24805   \n",
       "10582    1652558857746         2147586707        0.0  25743.0  -6603   \n",
       "\n",
       "       timestamp_resample                         datetime  \\\n",
       "0           1652558856700 2022-05-14 20:07:36.725000+00:00   \n",
       "1           1652558857900 2022-05-14 20:07:37.910000+00:00   \n",
       "2           1652558857150 2022-05-14 20:07:37.168000+00:00   \n",
       "3           1652558859850 2022-05-14 20:07:39.897000+00:00   \n",
       "4           1652558855800 2022-05-14 20:07:35.809000+00:00   \n",
       "...                   ...                              ...   \n",
       "10559       1652558859850 2022-05-14 20:07:39.855000+00:00   \n",
       "10570       1652558856900 2022-05-14 20:07:36.929000+00:00   \n",
       "10574       1652558857850 2022-05-14 20:07:37.880000+00:00   \n",
       "10578       1652558858050 2022-05-14 20:07:38.055000+00:00   \n",
       "10582       1652558857700 2022-05-14 20:07:37.746000+00:00   \n",
       "\n",
       "                     datetime_resample  \n",
       "0     2022-05-14 20:07:36.700000+00:00  \n",
       "1     2022-05-14 20:07:37.900000+00:00  \n",
       "2     2022-05-14 20:07:37.150000+00:00  \n",
       "3     2022-05-14 20:07:39.850000+00:00  \n",
       "4     2022-05-14 20:07:35.800000+00:00  \n",
       "...                                ...  \n",
       "10559 2022-05-14 20:07:39.850000+00:00  \n",
       "10570 2022-05-14 20:07:36.900000+00:00  \n",
       "10574 2022-05-14 20:07:37.850000+00:00  \n",
       "10578 2022-05-14 20:07:38.050000+00:00  \n",
       "10582 2022-05-14 20:07:37.700000+00:00  \n",
       "\n",
       "[10583 rows x 8 columns]"
      ]
     },
     "execution_count": 14,
     "metadata": {},
     "output_type": "execute_result"
    }
   ],
   "source": [
    "new_df['timestamp_resample'] = new_df.iloc[:,0]//50*50\n",
    "new_df['datetime'] = pd.to_datetime(new_df['event_timestamp'],utc=True,unit='ms',origin='unix')\n",
    "new_df['datetime_resample'] = pd.to_datetime(new_df['timestamp_resample'],utc=True,unit='ms',origin='unix')\n",
    "new_df"
   ]
  },
  {
   "cell_type": "code",
   "execution_count": 15,
   "id": "01ef3686",
   "metadata": {},
   "outputs": [
    {
     "data": {
      "text/html": [
       "<div>\n",
       "<style scoped>\n",
       "    .dataframe tbody tr th:only-of-type {\n",
       "        vertical-align: middle;\n",
       "    }\n",
       "\n",
       "    .dataframe tbody tr th {\n",
       "        vertical-align: top;\n",
       "    }\n",
       "\n",
       "    .dataframe thead th {\n",
       "        text-align: right;\n",
       "    }\n",
       "</style>\n",
       "<table border=\"1\" class=\"dataframe\">\n",
       "  <thead>\n",
       "    <tr style=\"text-align: right;\">\n",
       "      <th></th>\n",
       "      <th>event_timestamp</th>\n",
       "      <th>tag_serial_number</th>\n",
       "      <th>player_id</th>\n",
       "      <th>X</th>\n",
       "      <th>Y</th>\n",
       "      <th>timestamp_resample</th>\n",
       "    </tr>\n",
       "  </thead>\n",
       "  <tbody>\n",
       "    <tr>\n",
       "      <th>count</th>\n",
       "      <td>1.058300e+04</td>\n",
       "      <td>1.058300e+04</td>\n",
       "      <td>9983.000000</td>\n",
       "      <td>10583.00000</td>\n",
       "      <td>10583.000000</td>\n",
       "      <td>1.058300e+04</td>\n",
       "    </tr>\n",
       "    <tr>\n",
       "      <th>mean</th>\n",
       "      <td>1.652559e+12</td>\n",
       "      <td>5.682118e+08</td>\n",
       "      <td>98384.416708</td>\n",
       "      <td>-4619.11698</td>\n",
       "      <td>-1601.320798</td>\n",
       "      <td>1.652559e+12</td>\n",
       "    </tr>\n",
       "    <tr>\n",
       "      <th>std</th>\n",
       "      <td>1.445656e+03</td>\n",
       "      <td>9.473486e+08</td>\n",
       "      <td>61430.291956</td>\n",
       "      <td>25866.81770</td>\n",
       "      <td>11699.309514</td>\n",
       "      <td>1.445790e+03</td>\n",
       "    </tr>\n",
       "    <tr>\n",
       "      <th>min</th>\n",
       "      <td>1.652559e+12</td>\n",
       "      <td>2.003300e+04</td>\n",
       "      <td>0.000000</td>\n",
       "      <td>-35102.00000</td>\n",
       "      <td>-20425.000000</td>\n",
       "      <td>1.652559e+12</td>\n",
       "    </tr>\n",
       "    <tr>\n",
       "      <th>25%</th>\n",
       "      <td>1.652559e+12</td>\n",
       "      <td>2.018800e+04</td>\n",
       "      <td>0.000000</td>\n",
       "      <td>-27666.00000</td>\n",
       "      <td>-10110.000000</td>\n",
       "      <td>1.652559e+12</td>\n",
       "    </tr>\n",
       "    <tr>\n",
       "      <th>50%</th>\n",
       "      <td>1.652559e+12</td>\n",
       "      <td>2.028100e+04</td>\n",
       "      <td>136535.000000</td>\n",
       "      <td>-8104.00000</td>\n",
       "      <td>-3563.000000</td>\n",
       "      <td>1.652559e+12</td>\n",
       "    </tr>\n",
       "    <tr>\n",
       "      <th>75%</th>\n",
       "      <td>1.652559e+12</td>\n",
       "      <td>2.147567e+09</td>\n",
       "      <td>136575.000000</td>\n",
       "      <td>26316.00000</td>\n",
       "      <td>4177.500000</td>\n",
       "      <td>1.652559e+12</td>\n",
       "    </tr>\n",
       "    <tr>\n",
       "      <th>max</th>\n",
       "      <td>1.652559e+12</td>\n",
       "      <td>2.147587e+09</td>\n",
       "      <td>138138.000000</td>\n",
       "      <td>35684.00000</td>\n",
       "      <td>30603.000000</td>\n",
       "      <td>1.652559e+12</td>\n",
       "    </tr>\n",
       "  </tbody>\n",
       "</table>\n",
       "</div>"
      ],
      "text/plain": [
       "       event_timestamp  tag_serial_number      player_id            X  \\\n",
       "count     1.058300e+04       1.058300e+04    9983.000000  10583.00000   \n",
       "mean      1.652559e+12       5.682118e+08   98384.416708  -4619.11698   \n",
       "std       1.445656e+03       9.473486e+08   61430.291956  25866.81770   \n",
       "min       1.652559e+12       2.003300e+04       0.000000 -35102.00000   \n",
       "25%       1.652559e+12       2.018800e+04       0.000000 -27666.00000   \n",
       "50%       1.652559e+12       2.028100e+04  136535.000000  -8104.00000   \n",
       "75%       1.652559e+12       2.147567e+09  136575.000000  26316.00000   \n",
       "max       1.652559e+12       2.147587e+09  138138.000000  35684.00000   \n",
       "\n",
       "                  Y  timestamp_resample  \n",
       "count  10583.000000        1.058300e+04  \n",
       "mean   -1601.320798        1.652559e+12  \n",
       "std    11699.309514        1.445790e+03  \n",
       "min   -20425.000000        1.652559e+12  \n",
       "25%   -10110.000000        1.652559e+12  \n",
       "50%    -3563.000000        1.652559e+12  \n",
       "75%     4177.500000        1.652559e+12  \n",
       "max    30603.000000        1.652559e+12  "
      ]
     },
     "execution_count": 15,
     "metadata": {},
     "output_type": "execute_result"
    }
   ],
   "source": [
    "new_df.describe()\n",
    "# \n"
   ]
  },
  {
   "cell_type": "code",
   "execution_count": 16,
   "id": "92c40f86",
   "metadata": {},
   "outputs": [
    {
     "data": {
      "text/plain": [
       "event_timestamp         0\n",
       "tag_serial_number       0\n",
       "player_id             600\n",
       "X                       0\n",
       "Y                       0\n",
       "timestamp_resample      0\n",
       "datetime                0\n",
       "datetime_resample       0\n",
       "dtype: int64"
      ]
     },
     "execution_count": 16,
     "metadata": {},
     "output_type": "execute_result"
    }
   ],
   "source": [
    "new_df.isnull().sum()\n",
    "# 600 data missing for player_id"
   ]
  },
  {
   "cell_type": "code",
   "execution_count": 17,
   "id": "d1690120",
   "metadata": {},
   "outputs": [
    {
     "name": "stderr",
     "output_type": "stream",
     "text": [
      "C:\\Users\\Xiaoyi Chen\\AppData\\Local\\Temp\\ipykernel_13216\\2535804439.py:1: FutureWarning: The default value of numeric_only in DataFrameGroupBy.mean is deprecated. In a future version, numeric_only will default to False. Either specify numeric_only or select only columns which should be valid for the function.\n",
      "  x_ave = new_df.groupby(['tag_serial_number','timestamp_resample']).mean()['X']\n",
      "C:\\Users\\Xiaoyi Chen\\AppData\\Local\\Temp\\ipykernel_13216\\2535804439.py:2: FutureWarning: The default value of numeric_only in DataFrameGroupBy.mean is deprecated. In a future version, numeric_only will default to False. Either specify numeric_only or select only columns which should be valid for the function.\n",
      "  y_ave = new_df.groupby(['tag_serial_number','timestamp_resample']).mean()['Y']\n"
     ]
    }
   ],
   "source": [
    "x_ave = new_df.groupby(['tag_serial_number','timestamp_resample']).mean()['X']\n",
    "y_ave = new_df.groupby(['tag_serial_number','timestamp_resample']).mean()['Y']"
   ]
  },
  {
   "cell_type": "code",
   "execution_count": 18,
   "id": "7701edb6",
   "metadata": {},
   "outputs": [
    {
     "data": {
      "text/html": [
       "<div>\n",
       "<style scoped>\n",
       "    .dataframe tbody tr th:only-of-type {\n",
       "        vertical-align: middle;\n",
       "    }\n",
       "\n",
       "    .dataframe tbody tr th {\n",
       "        vertical-align: top;\n",
       "    }\n",
       "\n",
       "    .dataframe thead th {\n",
       "        text-align: right;\n",
       "    }\n",
       "</style>\n",
       "<table border=\"1\" class=\"dataframe\">\n",
       "  <thead>\n",
       "    <tr style=\"text-align: right;\">\n",
       "      <th></th>\n",
       "      <th>event_timestamp</th>\n",
       "      <th>tag_serial_number</th>\n",
       "      <th>player_id</th>\n",
       "      <th>X</th>\n",
       "      <th>Y</th>\n",
       "      <th>timestamp_resample</th>\n",
       "      <th>datetime</th>\n",
       "      <th>datetime_resample</th>\n",
       "      <th>X_ave</th>\n",
       "      <th>Y_ave</th>\n",
       "    </tr>\n",
       "  </thead>\n",
       "  <tbody>\n",
       "    <tr>\n",
       "      <th>0</th>\n",
       "      <td>1652558856725</td>\n",
       "      <td>20150</td>\n",
       "      <td>136529.0</td>\n",
       "      <td>33038.0</td>\n",
       "      <td>-17436</td>\n",
       "      <td>1652558856700</td>\n",
       "      <td>2022-05-14 20:07:36.725000+00:00</td>\n",
       "      <td>2022-05-14 20:07:36.700000+00:00</td>\n",
       "      <td>33038.0</td>\n",
       "      <td>-17436.0</td>\n",
       "    </tr>\n",
       "    <tr>\n",
       "      <th>1</th>\n",
       "      <td>1652558857910</td>\n",
       "      <td>20285</td>\n",
       "      <td>136531.0</td>\n",
       "      <td>-4856.0</td>\n",
       "      <td>-9452</td>\n",
       "      <td>1652558857900</td>\n",
       "      <td>2022-05-14 20:07:37.910000+00:00</td>\n",
       "      <td>2022-05-14 20:07:37.900000+00:00</td>\n",
       "      <td>-4856.0</td>\n",
       "      <td>-9452.0</td>\n",
       "    </tr>\n",
       "    <tr>\n",
       "      <th>2</th>\n",
       "      <td>1652558857168</td>\n",
       "      <td>20195</td>\n",
       "      <td>136543.0</td>\n",
       "      <td>32901.0</td>\n",
       "      <td>17404</td>\n",
       "      <td>1652558857150</td>\n",
       "      <td>2022-05-14 20:07:37.168000+00:00</td>\n",
       "      <td>2022-05-14 20:07:37.150000+00:00</td>\n",
       "      <td>32901.0</td>\n",
       "      <td>17404.0</td>\n",
       "    </tr>\n",
       "    <tr>\n",
       "      <th>3</th>\n",
       "      <td>1652558859897</td>\n",
       "      <td>20262</td>\n",
       "      <td>138136.0</td>\n",
       "      <td>-27617.0</td>\n",
       "      <td>-6218</td>\n",
       "      <td>1652558859850</td>\n",
       "      <td>2022-05-14 20:07:39.897000+00:00</td>\n",
       "      <td>2022-05-14 20:07:39.850000+00:00</td>\n",
       "      <td>-27617.0</td>\n",
       "      <td>-6218.0</td>\n",
       "    </tr>\n",
       "    <tr>\n",
       "      <th>4</th>\n",
       "      <td>1652558855809</td>\n",
       "      <td>20127</td>\n",
       "      <td>136514.0</td>\n",
       "      <td>-2204.0</td>\n",
       "      <td>2092</td>\n",
       "      <td>1652558855800</td>\n",
       "      <td>2022-05-14 20:07:35.809000+00:00</td>\n",
       "      <td>2022-05-14 20:07:35.800000+00:00</td>\n",
       "      <td>-2204.0</td>\n",
       "      <td>2092.0</td>\n",
       "    </tr>\n",
       "    <tr>\n",
       "      <th>...</th>\n",
       "      <td>...</td>\n",
       "      <td>...</td>\n",
       "      <td>...</td>\n",
       "      <td>...</td>\n",
       "      <td>...</td>\n",
       "      <td>...</td>\n",
       "      <td>...</td>\n",
       "      <td>...</td>\n",
       "      <td>...</td>\n",
       "      <td>...</td>\n",
       "    </tr>\n",
       "    <tr>\n",
       "      <th>10559</th>\n",
       "      <td>1652558859855</td>\n",
       "      <td>2147577865</td>\n",
       "      <td>0.0</td>\n",
       "      <td>-32853.0</td>\n",
       "      <td>24811</td>\n",
       "      <td>1652558859850</td>\n",
       "      <td>2022-05-14 20:07:39.855000+00:00</td>\n",
       "      <td>2022-05-14 20:07:39.850000+00:00</td>\n",
       "      <td>-32853.5</td>\n",
       "      <td>24811.5</td>\n",
       "    </tr>\n",
       "    <tr>\n",
       "      <th>10570</th>\n",
       "      <td>1652558856929</td>\n",
       "      <td>2147567164</td>\n",
       "      <td>0.0</td>\n",
       "      <td>26423.0</td>\n",
       "      <td>-3868</td>\n",
       "      <td>1652558856900</td>\n",
       "      <td>2022-05-14 20:07:36.929000+00:00</td>\n",
       "      <td>2022-05-14 20:07:36.900000+00:00</td>\n",
       "      <td>26418.5</td>\n",
       "      <td>-3871.0</td>\n",
       "    </tr>\n",
       "    <tr>\n",
       "      <th>10574</th>\n",
       "      <td>1652558857880</td>\n",
       "      <td>2147586306</td>\n",
       "      <td>0.0</td>\n",
       "      <td>-32622.0</td>\n",
       "      <td>24808</td>\n",
       "      <td>1652558857850</td>\n",
       "      <td>2022-05-14 20:07:37.880000+00:00</td>\n",
       "      <td>2022-05-14 20:07:37.850000+00:00</td>\n",
       "      <td>-32619.5</td>\n",
       "      <td>24810.0</td>\n",
       "    </tr>\n",
       "    <tr>\n",
       "      <th>10578</th>\n",
       "      <td>1652558858055</td>\n",
       "      <td>2147586306</td>\n",
       "      <td>0.0</td>\n",
       "      <td>-32617.0</td>\n",
       "      <td>24805</td>\n",
       "      <td>1652558858050</td>\n",
       "      <td>2022-05-14 20:07:38.055000+00:00</td>\n",
       "      <td>2022-05-14 20:07:38.050000+00:00</td>\n",
       "      <td>-32615.5</td>\n",
       "      <td>24813.0</td>\n",
       "    </tr>\n",
       "    <tr>\n",
       "      <th>10582</th>\n",
       "      <td>1652558857746</td>\n",
       "      <td>2147586707</td>\n",
       "      <td>0.0</td>\n",
       "      <td>25743.0</td>\n",
       "      <td>-6603</td>\n",
       "      <td>1652558857700</td>\n",
       "      <td>2022-05-14 20:07:37.746000+00:00</td>\n",
       "      <td>2022-05-14 20:07:37.700000+00:00</td>\n",
       "      <td>25745.5</td>\n",
       "      <td>-6615.5</td>\n",
       "    </tr>\n",
       "  </tbody>\n",
       "</table>\n",
       "<p>10583 rows × 10 columns</p>\n",
       "</div>"
      ],
      "text/plain": [
       "       event_timestamp  tag_serial_number  player_id        X      Y  \\\n",
       "0        1652558856725              20150   136529.0  33038.0 -17436   \n",
       "1        1652558857910              20285   136531.0  -4856.0  -9452   \n",
       "2        1652558857168              20195   136543.0  32901.0  17404   \n",
       "3        1652558859897              20262   138136.0 -27617.0  -6218   \n",
       "4        1652558855809              20127   136514.0  -2204.0   2092   \n",
       "...                ...                ...        ...      ...    ...   \n",
       "10559    1652558859855         2147577865        0.0 -32853.0  24811   \n",
       "10570    1652558856929         2147567164        0.0  26423.0  -3868   \n",
       "10574    1652558857880         2147586306        0.0 -32622.0  24808   \n",
       "10578    1652558858055         2147586306        0.0 -32617.0  24805   \n",
       "10582    1652558857746         2147586707        0.0  25743.0  -6603   \n",
       "\n",
       "       timestamp_resample                         datetime  \\\n",
       "0           1652558856700 2022-05-14 20:07:36.725000+00:00   \n",
       "1           1652558857900 2022-05-14 20:07:37.910000+00:00   \n",
       "2           1652558857150 2022-05-14 20:07:37.168000+00:00   \n",
       "3           1652558859850 2022-05-14 20:07:39.897000+00:00   \n",
       "4           1652558855800 2022-05-14 20:07:35.809000+00:00   \n",
       "...                   ...                              ...   \n",
       "10559       1652558859850 2022-05-14 20:07:39.855000+00:00   \n",
       "10570       1652558856900 2022-05-14 20:07:36.929000+00:00   \n",
       "10574       1652558857850 2022-05-14 20:07:37.880000+00:00   \n",
       "10578       1652558858050 2022-05-14 20:07:38.055000+00:00   \n",
       "10582       1652558857700 2022-05-14 20:07:37.746000+00:00   \n",
       "\n",
       "                     datetime_resample    X_ave    Y_ave  \n",
       "0     2022-05-14 20:07:36.700000+00:00  33038.0 -17436.0  \n",
       "1     2022-05-14 20:07:37.900000+00:00  -4856.0  -9452.0  \n",
       "2     2022-05-14 20:07:37.150000+00:00  32901.0  17404.0  \n",
       "3     2022-05-14 20:07:39.850000+00:00 -27617.0  -6218.0  \n",
       "4     2022-05-14 20:07:35.800000+00:00  -2204.0   2092.0  \n",
       "...                                ...      ...      ...  \n",
       "10559 2022-05-14 20:07:39.850000+00:00 -32853.5  24811.5  \n",
       "10570 2022-05-14 20:07:36.900000+00:00  26418.5  -3871.0  \n",
       "10574 2022-05-14 20:07:37.850000+00:00 -32619.5  24810.0  \n",
       "10578 2022-05-14 20:07:38.050000+00:00 -32615.5  24813.0  \n",
       "10582 2022-05-14 20:07:37.700000+00:00  25745.5  -6615.5  \n",
       "\n",
       "[10583 rows x 10 columns]"
      ]
     },
     "execution_count": 18,
     "metadata": {},
     "output_type": "execute_result"
    }
   ],
   "source": [
    "new_df['X_ave'] = new_df.apply(lambda x:x_ave[x['tag_serial_number'],x['timestamp_resample']],axis=1)\n",
    "new_df['Y_ave'] = new_df.apply(lambda x:y_ave[x['tag_serial_number'],x['timestamp_resample']],axis=1)\n",
    "new_df"
   ]
  },
  {
   "cell_type": "code",
   "execution_count": 19,
   "id": "1d9ed60f",
   "metadata": {},
   "outputs": [],
   "source": [
    "new_df = new_df.dropna()"
   ]
  },
  {
   "cell_type": "code",
   "execution_count": 20,
   "id": "46d31130",
   "metadata": {},
   "outputs": [
    {
     "data": {
      "text/html": [
       "<div>\n",
       "<style scoped>\n",
       "    .dataframe tbody tr th:only-of-type {\n",
       "        vertical-align: middle;\n",
       "    }\n",
       "\n",
       "    .dataframe tbody tr th {\n",
       "        vertical-align: top;\n",
       "    }\n",
       "\n",
       "    .dataframe thead th {\n",
       "        text-align: right;\n",
       "    }\n",
       "</style>\n",
       "<table border=\"1\" class=\"dataframe\">\n",
       "  <thead>\n",
       "    <tr style=\"text-align: right;\">\n",
       "      <th></th>\n",
       "      <th>event_timestamp</th>\n",
       "      <th>tag_serial_number</th>\n",
       "      <th>player_id</th>\n",
       "      <th>X</th>\n",
       "      <th>Y</th>\n",
       "      <th>timestamp_resample</th>\n",
       "      <th>datetime</th>\n",
       "      <th>datetime_resample</th>\n",
       "      <th>X_ave</th>\n",
       "      <th>Y_ave</th>\n",
       "    </tr>\n",
       "  </thead>\n",
       "  <tbody>\n",
       "    <tr>\n",
       "      <th>6444</th>\n",
       "      <td>1652558855049</td>\n",
       "      <td>2147585872</td>\n",
       "      <td>0.0</td>\n",
       "      <td>-26938.0</td>\n",
       "      <td>4291</td>\n",
       "      <td>1652558855000</td>\n",
       "      <td>2022-05-14 20:07:35.049000+00:00</td>\n",
       "      <td>2022-05-14 20:07:35+00:00</td>\n",
       "      <td>-26925.5</td>\n",
       "      <td>4298.0</td>\n",
       "    </tr>\n",
       "    <tr>\n",
       "      <th>1741</th>\n",
       "      <td>1652558855022</td>\n",
       "      <td>20175</td>\n",
       "      <td>136581.0</td>\n",
       "      <td>-3656.0</td>\n",
       "      <td>-2265</td>\n",
       "      <td>1652558855000</td>\n",
       "      <td>2022-05-14 20:07:35.022000+00:00</td>\n",
       "      <td>2022-05-14 20:07:35+00:00</td>\n",
       "      <td>-3656.0</td>\n",
       "      <td>-2265.0</td>\n",
       "    </tr>\n",
       "    <tr>\n",
       "      <th>3159</th>\n",
       "      <td>1652558855005</td>\n",
       "      <td>2147586306</td>\n",
       "      <td>0.0</td>\n",
       "      <td>-32616.0</td>\n",
       "      <td>24781</td>\n",
       "      <td>1652558855000</td>\n",
       "      <td>2022-05-14 20:07:35.005000+00:00</td>\n",
       "      <td>2022-05-14 20:07:35+00:00</td>\n",
       "      <td>-32617.5</td>\n",
       "      <td>24784.0</td>\n",
       "    </tr>\n",
       "    <tr>\n",
       "      <th>8692</th>\n",
       "      <td>1652558855008</td>\n",
       "      <td>20033</td>\n",
       "      <td>136526.0</td>\n",
       "      <td>-7539.0</td>\n",
       "      <td>3092</td>\n",
       "      <td>1652558855000</td>\n",
       "      <td>2022-05-14 20:07:35.008000+00:00</td>\n",
       "      <td>2022-05-14 20:07:35+00:00</td>\n",
       "      <td>-7539.0</td>\n",
       "      <td>3092.0</td>\n",
       "    </tr>\n",
       "    <tr>\n",
       "      <th>7367</th>\n",
       "      <td>1652558855044</td>\n",
       "      <td>20207</td>\n",
       "      <td>136592.0</td>\n",
       "      <td>-33578.0</td>\n",
       "      <td>-19106</td>\n",
       "      <td>1652558855000</td>\n",
       "      <td>2022-05-14 20:07:35.044000+00:00</td>\n",
       "      <td>2022-05-14 20:07:35+00:00</td>\n",
       "      <td>-33578.0</td>\n",
       "      <td>-19106.0</td>\n",
       "    </tr>\n",
       "    <tr>\n",
       "      <th>...</th>\n",
       "      <td>...</td>\n",
       "      <td>...</td>\n",
       "      <td>...</td>\n",
       "      <td>...</td>\n",
       "      <td>...</td>\n",
       "      <td>...</td>\n",
       "      <td>...</td>\n",
       "      <td>...</td>\n",
       "      <td>...</td>\n",
       "      <td>...</td>\n",
       "    </tr>\n",
       "    <tr>\n",
       "      <th>1544</th>\n",
       "      <td>1652558859995</td>\n",
       "      <td>20349</td>\n",
       "      <td>136590.0</td>\n",
       "      <td>-33411.0</td>\n",
       "      <td>-18400</td>\n",
       "      <td>1652558859950</td>\n",
       "      <td>2022-05-14 20:07:39.995000+00:00</td>\n",
       "      <td>2022-05-14 20:07:39.950000+00:00</td>\n",
       "      <td>-33411.0</td>\n",
       "      <td>-18400.0</td>\n",
       "    </tr>\n",
       "    <tr>\n",
       "      <th>1550</th>\n",
       "      <td>1652558859998</td>\n",
       "      <td>20336</td>\n",
       "      <td>136562.0</td>\n",
       "      <td>-32851.0</td>\n",
       "      <td>-7902</td>\n",
       "      <td>1652558859950</td>\n",
       "      <td>2022-05-14 20:07:39.998000+00:00</td>\n",
       "      <td>2022-05-14 20:07:39.950000+00:00</td>\n",
       "      <td>-32851.0</td>\n",
       "      <td>-7902.0</td>\n",
       "    </tr>\n",
       "    <tr>\n",
       "      <th>3547</th>\n",
       "      <td>1652558859972</td>\n",
       "      <td>20175</td>\n",
       "      <td>136581.0</td>\n",
       "      <td>-7064.0</td>\n",
       "      <td>-6455</td>\n",
       "      <td>1652558859950</td>\n",
       "      <td>2022-05-14 20:07:39.972000+00:00</td>\n",
       "      <td>2022-05-14 20:07:39.950000+00:00</td>\n",
       "      <td>-7064.0</td>\n",
       "      <td>-6455.0</td>\n",
       "    </tr>\n",
       "    <tr>\n",
       "      <th>2200</th>\n",
       "      <td>1652558859956</td>\n",
       "      <td>20264</td>\n",
       "      <td>136524.0</td>\n",
       "      <td>33244.0</td>\n",
       "      <td>9116</td>\n",
       "      <td>1652558859950</td>\n",
       "      <td>2022-05-14 20:07:39.956000+00:00</td>\n",
       "      <td>2022-05-14 20:07:39.950000+00:00</td>\n",
       "      <td>33244.0</td>\n",
       "      <td>9116.0</td>\n",
       "    </tr>\n",
       "    <tr>\n",
       "      <th>707</th>\n",
       "      <td>1652558859986</td>\n",
       "      <td>20213</td>\n",
       "      <td>136507.0</td>\n",
       "      <td>32967.0</td>\n",
       "      <td>-12608</td>\n",
       "      <td>1652558859950</td>\n",
       "      <td>2022-05-14 20:07:39.986000+00:00</td>\n",
       "      <td>2022-05-14 20:07:39.950000+00:00</td>\n",
       "      <td>32967.0</td>\n",
       "      <td>-12608.0</td>\n",
       "    </tr>\n",
       "  </tbody>\n",
       "</table>\n",
       "<p>9983 rows × 10 columns</p>\n",
       "</div>"
      ],
      "text/plain": [
       "      event_timestamp  tag_serial_number  player_id        X      Y  \\\n",
       "6444    1652558855049         2147585872        0.0 -26938.0   4291   \n",
       "1741    1652558855022              20175   136581.0  -3656.0  -2265   \n",
       "3159    1652558855005         2147586306        0.0 -32616.0  24781   \n",
       "8692    1652558855008              20033   136526.0  -7539.0   3092   \n",
       "7367    1652558855044              20207   136592.0 -33578.0 -19106   \n",
       "...               ...                ...        ...      ...    ...   \n",
       "1544    1652558859995              20349   136590.0 -33411.0 -18400   \n",
       "1550    1652558859998              20336   136562.0 -32851.0  -7902   \n",
       "3547    1652558859972              20175   136581.0  -7064.0  -6455   \n",
       "2200    1652558859956              20264   136524.0  33244.0   9116   \n",
       "707     1652558859986              20213   136507.0  32967.0 -12608   \n",
       "\n",
       "      timestamp_resample                         datetime  \\\n",
       "6444       1652558855000 2022-05-14 20:07:35.049000+00:00   \n",
       "1741       1652558855000 2022-05-14 20:07:35.022000+00:00   \n",
       "3159       1652558855000 2022-05-14 20:07:35.005000+00:00   \n",
       "8692       1652558855000 2022-05-14 20:07:35.008000+00:00   \n",
       "7367       1652558855000 2022-05-14 20:07:35.044000+00:00   \n",
       "...                  ...                              ...   \n",
       "1544       1652558859950 2022-05-14 20:07:39.995000+00:00   \n",
       "1550       1652558859950 2022-05-14 20:07:39.998000+00:00   \n",
       "3547       1652558859950 2022-05-14 20:07:39.972000+00:00   \n",
       "2200       1652558859950 2022-05-14 20:07:39.956000+00:00   \n",
       "707        1652558859950 2022-05-14 20:07:39.986000+00:00   \n",
       "\n",
       "                    datetime_resample    X_ave    Y_ave  \n",
       "6444        2022-05-14 20:07:35+00:00 -26925.5   4298.0  \n",
       "1741        2022-05-14 20:07:35+00:00  -3656.0  -2265.0  \n",
       "3159        2022-05-14 20:07:35+00:00 -32617.5  24784.0  \n",
       "8692        2022-05-14 20:07:35+00:00  -7539.0   3092.0  \n",
       "7367        2022-05-14 20:07:35+00:00 -33578.0 -19106.0  \n",
       "...                               ...      ...      ...  \n",
       "1544 2022-05-14 20:07:39.950000+00:00 -33411.0 -18400.0  \n",
       "1550 2022-05-14 20:07:39.950000+00:00 -32851.0  -7902.0  \n",
       "3547 2022-05-14 20:07:39.950000+00:00  -7064.0  -6455.0  \n",
       "2200 2022-05-14 20:07:39.950000+00:00  33244.0   9116.0  \n",
       "707  2022-05-14 20:07:39.950000+00:00  32967.0 -12608.0  \n",
       "\n",
       "[9983 rows x 10 columns]"
      ]
     },
     "execution_count": 20,
     "metadata": {},
     "output_type": "execute_result"
    }
   ],
   "source": [
    "new_df.sort_values('timestamp_resample')"
   ]
  },
  {
   "cell_type": "code",
   "execution_count": 21,
   "id": "f4a4c474",
   "metadata": {},
   "outputs": [
    {
     "data": {
      "text/html": [
       "<div>\n",
       "<style scoped>\n",
       "    .dataframe tbody tr th:only-of-type {\n",
       "        vertical-align: middle;\n",
       "    }\n",
       "\n",
       "    .dataframe tbody tr th {\n",
       "        vertical-align: top;\n",
       "    }\n",
       "\n",
       "    .dataframe thead th {\n",
       "        text-align: right;\n",
       "    }\n",
       "</style>\n",
       "<table border=\"1\" class=\"dataframe\">\n",
       "  <thead>\n",
       "    <tr style=\"text-align: right;\">\n",
       "      <th></th>\n",
       "      <th>event_timestamp</th>\n",
       "      <th>tag_serial_number</th>\n",
       "      <th>player_id</th>\n",
       "      <th>X</th>\n",
       "      <th>Y</th>\n",
       "      <th>timestamp_resample</th>\n",
       "      <th>datetime</th>\n",
       "      <th>datetime_resample</th>\n",
       "      <th>X_ave</th>\n",
       "      <th>Y_ave</th>\n",
       "    </tr>\n",
       "  </thead>\n",
       "  <tbody>\n",
       "    <tr>\n",
       "      <th>1</th>\n",
       "      <td>1652558857910</td>\n",
       "      <td>20285</td>\n",
       "      <td>136531.0</td>\n",
       "      <td>-4856.0</td>\n",
       "      <td>-9452</td>\n",
       "      <td>1652558857900</td>\n",
       "      <td>2022-05-14 20:07:37.910000+00:00</td>\n",
       "      <td>2022-05-14 20:07:37.900000+00:00</td>\n",
       "      <td>-4856.0</td>\n",
       "      <td>-9452.0</td>\n",
       "    </tr>\n",
       "    <tr>\n",
       "      <th>4</th>\n",
       "      <td>1652558855809</td>\n",
       "      <td>20127</td>\n",
       "      <td>136514.0</td>\n",
       "      <td>-2204.0</td>\n",
       "      <td>2092</td>\n",
       "      <td>1652558855800</td>\n",
       "      <td>2022-05-14 20:07:35.809000+00:00</td>\n",
       "      <td>2022-05-14 20:07:35.800000+00:00</td>\n",
       "      <td>-2204.0</td>\n",
       "      <td>2092.0</td>\n",
       "    </tr>\n",
       "    <tr>\n",
       "      <th>7</th>\n",
       "      <td>1652558858395</td>\n",
       "      <td>20334</td>\n",
       "      <td>136586.0</td>\n",
       "      <td>-15350.0</td>\n",
       "      <td>1492</td>\n",
       "      <td>1652558858350</td>\n",
       "      <td>2022-05-14 20:07:38.395000+00:00</td>\n",
       "      <td>2022-05-14 20:07:38.350000+00:00</td>\n",
       "      <td>-15350.0</td>\n",
       "      <td>1492.0</td>\n",
       "    </tr>\n",
       "    <tr>\n",
       "      <th>29</th>\n",
       "      <td>1652558856376</td>\n",
       "      <td>20297</td>\n",
       "      <td>136583.0</td>\n",
       "      <td>-67.0</td>\n",
       "      <td>-4808</td>\n",
       "      <td>1652558856350</td>\n",
       "      <td>2022-05-14 20:07:36.376000+00:00</td>\n",
       "      <td>2022-05-14 20:07:36.350000+00:00</td>\n",
       "      <td>-67.0</td>\n",
       "      <td>-4808.0</td>\n",
       "    </tr>\n",
       "    <tr>\n",
       "      <th>34</th>\n",
       "      <td>1652558858673</td>\n",
       "      <td>20219</td>\n",
       "      <td>136560.0</td>\n",
       "      <td>20536.0</td>\n",
       "      <td>13121</td>\n",
       "      <td>1652558858650</td>\n",
       "      <td>2022-05-14 20:07:38.673000+00:00</td>\n",
       "      <td>2022-05-14 20:07:38.650000+00:00</td>\n",
       "      <td>20536.0</td>\n",
       "      <td>13121.0</td>\n",
       "    </tr>\n",
       "    <tr>\n",
       "      <th>...</th>\n",
       "      <td>...</td>\n",
       "      <td>...</td>\n",
       "      <td>...</td>\n",
       "      <td>...</td>\n",
       "      <td>...</td>\n",
       "      <td>...</td>\n",
       "      <td>...</td>\n",
       "      <td>...</td>\n",
       "      <td>...</td>\n",
       "      <td>...</td>\n",
       "    </tr>\n",
       "    <tr>\n",
       "      <th>10240</th>\n",
       "      <td>1652558856576</td>\n",
       "      <td>2147581022</td>\n",
       "      <td>0.0</td>\n",
       "      <td>-4201.0</td>\n",
       "      <td>-8572</td>\n",
       "      <td>1652558856550</td>\n",
       "      <td>2022-05-14 20:07:36.576000+00:00</td>\n",
       "      <td>2022-05-14 20:07:36.550000+00:00</td>\n",
       "      <td>-4191.5</td>\n",
       "      <td>-8580.5</td>\n",
       "    </tr>\n",
       "    <tr>\n",
       "      <th>10354</th>\n",
       "      <td>1652558855576</td>\n",
       "      <td>2147581022</td>\n",
       "      <td>0.0</td>\n",
       "      <td>-2748.0</td>\n",
       "      <td>-7367</td>\n",
       "      <td>1652558855550</td>\n",
       "      <td>2022-05-14 20:07:35.576000+00:00</td>\n",
       "      <td>2022-05-14 20:07:35.550000+00:00</td>\n",
       "      <td>-2730.5</td>\n",
       "      <td>-7366.0</td>\n",
       "    </tr>\n",
       "    <tr>\n",
       "      <th>10408</th>\n",
       "      <td>1652558855401</td>\n",
       "      <td>2147581022</td>\n",
       "      <td>0.0</td>\n",
       "      <td>-2694.0</td>\n",
       "      <td>-6545</td>\n",
       "      <td>1652558855400</td>\n",
       "      <td>2022-05-14 20:07:35.401000+00:00</td>\n",
       "      <td>2022-05-14 20:07:35.400000+00:00</td>\n",
       "      <td>-2698.5</td>\n",
       "      <td>-6661.5</td>\n",
       "    </tr>\n",
       "    <tr>\n",
       "      <th>10464</th>\n",
       "      <td>1652558856302</td>\n",
       "      <td>2147581022</td>\n",
       "      <td>0.0</td>\n",
       "      <td>-3843.0</td>\n",
       "      <td>-8342</td>\n",
       "      <td>1652558856300</td>\n",
       "      <td>2022-05-14 20:07:36.302000+00:00</td>\n",
       "      <td>2022-05-14 20:07:36.300000+00:00</td>\n",
       "      <td>-3882.5</td>\n",
       "      <td>-8348.5</td>\n",
       "    </tr>\n",
       "    <tr>\n",
       "      <th>10539</th>\n",
       "      <td>1652558859751</td>\n",
       "      <td>2147581022</td>\n",
       "      <td>0.0</td>\n",
       "      <td>-13912.0</td>\n",
       "      <td>1018</td>\n",
       "      <td>1652558859750</td>\n",
       "      <td>2022-05-14 20:07:39.751000+00:00</td>\n",
       "      <td>2022-05-14 20:07:39.750000+00:00</td>\n",
       "      <td>-13966.5</td>\n",
       "      <td>1084.0</td>\n",
       "    </tr>\n",
       "  </tbody>\n",
       "</table>\n",
       "<p>2339 rows × 10 columns</p>\n",
       "</div>"
      ],
      "text/plain": [
       "       event_timestamp  tag_serial_number  player_id        X      Y  \\\n",
       "1        1652558857910              20285   136531.0  -4856.0  -9452   \n",
       "4        1652558855809              20127   136514.0  -2204.0   2092   \n",
       "7        1652558858395              20334   136586.0 -15350.0   1492   \n",
       "29       1652558856376              20297   136583.0    -67.0  -4808   \n",
       "34       1652558858673              20219   136560.0  20536.0  13121   \n",
       "...                ...                ...        ...      ...    ...   \n",
       "10240    1652558856576         2147581022        0.0  -4201.0  -8572   \n",
       "10354    1652558855576         2147581022        0.0  -2748.0  -7367   \n",
       "10408    1652558855401         2147581022        0.0  -2694.0  -6545   \n",
       "10464    1652558856302         2147581022        0.0  -3843.0  -8342   \n",
       "10539    1652558859751         2147581022        0.0 -13912.0   1018   \n",
       "\n",
       "       timestamp_resample                         datetime  \\\n",
       "1           1652558857900 2022-05-14 20:07:37.910000+00:00   \n",
       "4           1652558855800 2022-05-14 20:07:35.809000+00:00   \n",
       "7           1652558858350 2022-05-14 20:07:38.395000+00:00   \n",
       "29          1652558856350 2022-05-14 20:07:36.376000+00:00   \n",
       "34          1652558858650 2022-05-14 20:07:38.673000+00:00   \n",
       "...                   ...                              ...   \n",
       "10240       1652558856550 2022-05-14 20:07:36.576000+00:00   \n",
       "10354       1652558855550 2022-05-14 20:07:35.576000+00:00   \n",
       "10408       1652558855400 2022-05-14 20:07:35.401000+00:00   \n",
       "10464       1652558856300 2022-05-14 20:07:36.302000+00:00   \n",
       "10539       1652558859750 2022-05-14 20:07:39.751000+00:00   \n",
       "\n",
       "                     datetime_resample    X_ave    Y_ave  \n",
       "1     2022-05-14 20:07:37.900000+00:00  -4856.0  -9452.0  \n",
       "4     2022-05-14 20:07:35.800000+00:00  -2204.0   2092.0  \n",
       "7     2022-05-14 20:07:38.350000+00:00 -15350.0   1492.0  \n",
       "29    2022-05-14 20:07:36.350000+00:00    -67.0  -4808.0  \n",
       "34    2022-05-14 20:07:38.650000+00:00  20536.0  13121.0  \n",
       "...                                ...      ...      ...  \n",
       "10240 2022-05-14 20:07:36.550000+00:00  -4191.5  -8580.5  \n",
       "10354 2022-05-14 20:07:35.550000+00:00  -2730.5  -7366.0  \n",
       "10408 2022-05-14 20:07:35.400000+00:00  -2698.5  -6661.5  \n",
       "10464 2022-05-14 20:07:36.300000+00:00  -3882.5  -8348.5  \n",
       "10539 2022-05-14 20:07:39.750000+00:00 -13966.5   1084.0  \n",
       "\n",
       "[2339 rows x 10 columns]"
      ]
     },
     "execution_count": 21,
     "metadata": {},
     "output_type": "execute_result"
    }
   ],
   "source": [
    "x_top = 24231.6\n",
    "x_bot = -24231.6\n",
    "y_r = 54864.0\n",
    "y_l = -54864.0\n",
    "temp = new_df[(new_df['X_ave'] <= x_top) & (new_df['X_ave'] >= x_bot) & (new_df['Y_ave'] <= y_r) & (new_df['Y_ave'] >= y_l)]\n",
    "temp"
   ]
  },
  {
   "cell_type": "code",
   "execution_count": 22,
   "id": "64f8a6f6",
   "metadata": {},
   "outputs": [],
   "source": [
    "df_image = temp\n",
    "os.makedirs('./images', exist_ok=True)"
   ]
  },
  {
   "cell_type": "code",
   "execution_count": 23,
   "id": "e86a6347",
   "metadata": {},
   "outputs": [
    {
     "data": {
      "text/plain": [
       "<pandas.core.groupby.generic.DataFrameGroupBy object at 0x000001FDE2CA9540>"
      ]
     },
     "execution_count": 23,
     "metadata": {},
     "output_type": "execute_result"
    }
   ],
   "source": [
    "df_image.groupby('datetime_resample')"
   ]
  },
  {
   "cell_type": "code",
   "execution_count": 24,
   "id": "223af117",
   "metadata": {},
   "outputs": [
    {
     "data": {
      "text/plain": [
       "<DatetimeArray>\n",
       "[       '2022-05-14 20:07:35+00:00', '2022-05-14 20:07:35.050000+00:00',\n",
       " '2022-05-14 20:07:35.100000+00:00', '2022-05-14 20:07:35.150000+00:00',\n",
       " '2022-05-14 20:07:35.200000+00:00', '2022-05-14 20:07:35.250000+00:00',\n",
       " '2022-05-14 20:07:35.300000+00:00', '2022-05-14 20:07:35.350000+00:00',\n",
       " '2022-05-14 20:07:35.400000+00:00', '2022-05-14 20:07:35.450000+00:00',\n",
       " '2022-05-14 20:07:35.500000+00:00', '2022-05-14 20:07:35.550000+00:00',\n",
       " '2022-05-14 20:07:35.600000+00:00', '2022-05-14 20:07:35.650000+00:00',\n",
       " '2022-05-14 20:07:35.700000+00:00', '2022-05-14 20:07:35.750000+00:00',\n",
       " '2022-05-14 20:07:35.800000+00:00', '2022-05-14 20:07:35.850000+00:00',\n",
       " '2022-05-14 20:07:35.900000+00:00', '2022-05-14 20:07:35.950000+00:00',\n",
       "        '2022-05-14 20:07:36+00:00', '2022-05-14 20:07:36.050000+00:00',\n",
       " '2022-05-14 20:07:36.100000+00:00', '2022-05-14 20:07:36.150000+00:00',\n",
       " '2022-05-14 20:07:36.200000+00:00', '2022-05-14 20:07:36.250000+00:00',\n",
       " '2022-05-14 20:07:36.300000+00:00', '2022-05-14 20:07:36.350000+00:00',\n",
       " '2022-05-14 20:07:36.400000+00:00', '2022-05-14 20:07:36.450000+00:00',\n",
       " '2022-05-14 20:07:36.500000+00:00', '2022-05-14 20:07:36.550000+00:00',\n",
       " '2022-05-14 20:07:36.600000+00:00', '2022-05-14 20:07:36.650000+00:00',\n",
       " '2022-05-14 20:07:36.700000+00:00', '2022-05-14 20:07:36.750000+00:00',\n",
       " '2022-05-14 20:07:36.800000+00:00', '2022-05-14 20:07:36.850000+00:00',\n",
       " '2022-05-14 20:07:36.900000+00:00', '2022-05-14 20:07:36.950000+00:00',\n",
       "        '2022-05-14 20:07:37+00:00', '2022-05-14 20:07:37.050000+00:00',\n",
       " '2022-05-14 20:07:37.100000+00:00', '2022-05-14 20:07:37.150000+00:00',\n",
       " '2022-05-14 20:07:37.200000+00:00', '2022-05-14 20:07:37.250000+00:00',\n",
       " '2022-05-14 20:07:37.300000+00:00', '2022-05-14 20:07:37.350000+00:00',\n",
       " '2022-05-14 20:07:37.400000+00:00', '2022-05-14 20:07:37.450000+00:00',\n",
       " '2022-05-14 20:07:37.500000+00:00', '2022-05-14 20:07:37.550000+00:00',\n",
       " '2022-05-14 20:07:37.600000+00:00', '2022-05-14 20:07:37.650000+00:00',\n",
       " '2022-05-14 20:07:37.700000+00:00', '2022-05-14 20:07:37.750000+00:00',\n",
       " '2022-05-14 20:07:37.800000+00:00', '2022-05-14 20:07:37.850000+00:00',\n",
       " '2022-05-14 20:07:37.900000+00:00', '2022-05-14 20:07:37.950000+00:00',\n",
       "        '2022-05-14 20:07:38+00:00', '2022-05-14 20:07:38.050000+00:00',\n",
       " '2022-05-14 20:07:38.100000+00:00', '2022-05-14 20:07:38.150000+00:00',\n",
       " '2022-05-14 20:07:38.200000+00:00', '2022-05-14 20:07:38.250000+00:00',\n",
       " '2022-05-14 20:07:38.300000+00:00', '2022-05-14 20:07:38.350000+00:00',\n",
       " '2022-05-14 20:07:38.400000+00:00', '2022-05-14 20:07:38.450000+00:00',\n",
       " '2022-05-14 20:07:38.500000+00:00', '2022-05-14 20:07:38.550000+00:00',\n",
       " '2022-05-14 20:07:38.600000+00:00', '2022-05-14 20:07:38.650000+00:00',\n",
       " '2022-05-14 20:07:38.700000+00:00', '2022-05-14 20:07:38.750000+00:00',\n",
       " '2022-05-14 20:07:38.800000+00:00', '2022-05-14 20:07:38.850000+00:00',\n",
       " '2022-05-14 20:07:38.900000+00:00', '2022-05-14 20:07:38.950000+00:00',\n",
       "        '2022-05-14 20:07:39+00:00', '2022-05-14 20:07:39.050000+00:00',\n",
       " '2022-05-14 20:07:39.100000+00:00', '2022-05-14 20:07:39.150000+00:00',\n",
       " '2022-05-14 20:07:39.200000+00:00', '2022-05-14 20:07:39.250000+00:00',\n",
       " '2022-05-14 20:07:39.300000+00:00', '2022-05-14 20:07:39.350000+00:00',\n",
       " '2022-05-14 20:07:39.400000+00:00', '2022-05-14 20:07:39.450000+00:00',\n",
       " '2022-05-14 20:07:39.500000+00:00', '2022-05-14 20:07:39.550000+00:00',\n",
       " '2022-05-14 20:07:39.600000+00:00', '2022-05-14 20:07:39.650000+00:00',\n",
       " '2022-05-14 20:07:39.700000+00:00', '2022-05-14 20:07:39.750000+00:00',\n",
       " '2022-05-14 20:07:39.800000+00:00', '2022-05-14 20:07:39.850000+00:00',\n",
       " '2022-05-14 20:07:39.900000+00:00', '2022-05-14 20:07:39.950000+00:00']\n",
       "Length: 100, dtype: datetime64[ns, UTC]"
      ]
     },
     "execution_count": 24,
     "metadata": {},
     "output_type": "execute_result"
    }
   ],
   "source": [
    "unique_timestamp = df_image.sort_values('timestamp_resample')['datetime_resample'].unique()\n",
    "#unique_timestamp.strftime('%Y-%m-%d %H:%M:%S.%f')[:-4]\n",
    "unique_timestamp"
   ]
  },
  {
   "cell_type": "code",
   "execution_count": 42,
   "id": "a46e8f6d",
   "metadata": {},
   "outputs": [],
   "source": [
    "plt.rcParams.update({'font.size': 30})\n"
   ]
  },
  {
   "cell_type": "code",
   "execution_count": 47,
   "id": "c4c585b7",
   "metadata": {},
   "outputs": [
    {
     "name": "stderr",
     "output_type": "stream",
     "text": [
      "C:\\Users\\Xiaoyi Chen\\AppData\\Local\\Temp\\ipykernel_13216\\3871388852.py:2: RuntimeWarning: More than 20 figures have been opened. Figures created through the pyplot interface (`matplotlib.pyplot.figure`) are retained until explicitly closed and may consume too much memory. (To control this warning, see the rcParam `figure.max_open_warning`).\n",
      "  plt.figure(figsize = (19.2,10.8))\n"
     ]
    },
    {
     "data": {
      "text/plain": [
       "<Figure size 1920x1080 with 0 Axes>"
      ]
     },
     "metadata": {},
     "output_type": "display_data"
    },
    {
     "data": {
      "text/plain": [
       "<Figure size 1920x1080 with 0 Axes>"
      ]
     },
     "metadata": {},
     "output_type": "display_data"
    },
    {
     "data": {
      "text/plain": [
       "<Figure size 1920x1080 with 0 Axes>"
      ]
     },
     "metadata": {},
     "output_type": "display_data"
    },
    {
     "data": {
      "text/plain": [
       "<Figure size 1920x1080 with 0 Axes>"
      ]
     },
     "metadata": {},
     "output_type": "display_data"
    },
    {
     "data": {
      "text/plain": [
       "<Figure size 1920x1080 with 0 Axes>"
      ]
     },
     "metadata": {},
     "output_type": "display_data"
    },
    {
     "data": {
      "text/plain": [
       "<Figure size 1920x1080 with 0 Axes>"
      ]
     },
     "metadata": {},
     "output_type": "display_data"
    },
    {
     "data": {
      "text/plain": [
       "<Figure size 1920x1080 with 0 Axes>"
      ]
     },
     "metadata": {},
     "output_type": "display_data"
    },
    {
     "data": {
      "text/plain": [
       "<Figure size 1920x1080 with 0 Axes>"
      ]
     },
     "metadata": {},
     "output_type": "display_data"
    },
    {
     "data": {
      "text/plain": [
       "<Figure size 1920x1080 with 0 Axes>"
      ]
     },
     "metadata": {},
     "output_type": "display_data"
    },
    {
     "data": {
      "text/plain": [
       "<Figure size 1920x1080 with 0 Axes>"
      ]
     },
     "metadata": {},
     "output_type": "display_data"
    },
    {
     "data": {
      "text/plain": [
       "<Figure size 1920x1080 with 0 Axes>"
      ]
     },
     "metadata": {},
     "output_type": "display_data"
    },
    {
     "data": {
      "text/plain": [
       "<Figure size 1920x1080 with 0 Axes>"
      ]
     },
     "metadata": {},
     "output_type": "display_data"
    },
    {
     "data": {
      "text/plain": [
       "<Figure size 1920x1080 with 0 Axes>"
      ]
     },
     "metadata": {},
     "output_type": "display_data"
    },
    {
     "data": {
      "text/plain": [
       "<Figure size 1920x1080 with 0 Axes>"
      ]
     },
     "metadata": {},
     "output_type": "display_data"
    },
    {
     "data": {
      "text/plain": [
       "<Figure size 1920x1080 with 0 Axes>"
      ]
     },
     "metadata": {},
     "output_type": "display_data"
    },
    {
     "data": {
      "text/plain": [
       "<Figure size 1920x1080 with 0 Axes>"
      ]
     },
     "metadata": {},
     "output_type": "display_data"
    },
    {
     "data": {
      "text/plain": [
       "<Figure size 1920x1080 with 0 Axes>"
      ]
     },
     "metadata": {},
     "output_type": "display_data"
    },
    {
     "data": {
      "text/plain": [
       "<Figure size 1920x1080 with 0 Axes>"
      ]
     },
     "metadata": {},
     "output_type": "display_data"
    },
    {
     "data": {
      "text/plain": [
       "<Figure size 1920x1080 with 0 Axes>"
      ]
     },
     "metadata": {},
     "output_type": "display_data"
    },
    {
     "data": {
      "text/plain": [
       "<Figure size 1920x1080 with 0 Axes>"
      ]
     },
     "metadata": {},
     "output_type": "display_data"
    },
    {
     "data": {
      "text/plain": [
       "<Figure size 1920x1080 with 0 Axes>"
      ]
     },
     "metadata": {},
     "output_type": "display_data"
    },
    {
     "data": {
      "text/plain": [
       "<Figure size 1920x1080 with 0 Axes>"
      ]
     },
     "metadata": {},
     "output_type": "display_data"
    },
    {
     "data": {
      "text/plain": [
       "<Figure size 1920x1080 with 0 Axes>"
      ]
     },
     "metadata": {},
     "output_type": "display_data"
    },
    {
     "data": {
      "text/plain": [
       "<Figure size 1920x1080 with 0 Axes>"
      ]
     },
     "metadata": {},
     "output_type": "display_data"
    },
    {
     "data": {
      "text/plain": [
       "<Figure size 1920x1080 with 0 Axes>"
      ]
     },
     "metadata": {},
     "output_type": "display_data"
    },
    {
     "data": {
      "text/plain": [
       "<Figure size 1920x1080 with 0 Axes>"
      ]
     },
     "metadata": {},
     "output_type": "display_data"
    },
    {
     "data": {
      "text/plain": [
       "<Figure size 1920x1080 with 0 Axes>"
      ]
     },
     "metadata": {},
     "output_type": "display_data"
    },
    {
     "data": {
      "text/plain": [
       "<Figure size 1920x1080 with 0 Axes>"
      ]
     },
     "metadata": {},
     "output_type": "display_data"
    },
    {
     "data": {
      "text/plain": [
       "<Figure size 1920x1080 with 0 Axes>"
      ]
     },
     "metadata": {},
     "output_type": "display_data"
    },
    {
     "data": {
      "text/plain": [
       "<Figure size 1920x1080 with 0 Axes>"
      ]
     },
     "metadata": {},
     "output_type": "display_data"
    },
    {
     "data": {
      "text/plain": [
       "<Figure size 1920x1080 with 0 Axes>"
      ]
     },
     "metadata": {},
     "output_type": "display_data"
    },
    {
     "data": {
      "text/plain": [
       "<Figure size 1920x1080 with 0 Axes>"
      ]
     },
     "metadata": {},
     "output_type": "display_data"
    },
    {
     "data": {
      "text/plain": [
       "<Figure size 1920x1080 with 0 Axes>"
      ]
     },
     "metadata": {},
     "output_type": "display_data"
    },
    {
     "data": {
      "text/plain": [
       "<Figure size 1920x1080 with 0 Axes>"
      ]
     },
     "metadata": {},
     "output_type": "display_data"
    },
    {
     "data": {
      "text/plain": [
       "<Figure size 1920x1080 with 0 Axes>"
      ]
     },
     "metadata": {},
     "output_type": "display_data"
    },
    {
     "data": {
      "text/plain": [
       "<Figure size 1920x1080 with 0 Axes>"
      ]
     },
     "metadata": {},
     "output_type": "display_data"
    },
    {
     "data": {
      "text/plain": [
       "<Figure size 1920x1080 with 0 Axes>"
      ]
     },
     "metadata": {},
     "output_type": "display_data"
    },
    {
     "data": {
      "text/plain": [
       "<Figure size 1920x1080 with 0 Axes>"
      ]
     },
     "metadata": {},
     "output_type": "display_data"
    },
    {
     "data": {
      "text/plain": [
       "<Figure size 1920x1080 with 0 Axes>"
      ]
     },
     "metadata": {},
     "output_type": "display_data"
    },
    {
     "data": {
      "text/plain": [
       "<Figure size 1920x1080 with 0 Axes>"
      ]
     },
     "metadata": {},
     "output_type": "display_data"
    },
    {
     "data": {
      "text/plain": [
       "<Figure size 1920x1080 with 0 Axes>"
      ]
     },
     "metadata": {},
     "output_type": "display_data"
    },
    {
     "data": {
      "text/plain": [
       "<Figure size 1920x1080 with 0 Axes>"
      ]
     },
     "metadata": {},
     "output_type": "display_data"
    },
    {
     "data": {
      "text/plain": [
       "<Figure size 1920x1080 with 0 Axes>"
      ]
     },
     "metadata": {},
     "output_type": "display_data"
    },
    {
     "data": {
      "text/plain": [
       "<Figure size 1920x1080 with 0 Axes>"
      ]
     },
     "metadata": {},
     "output_type": "display_data"
    },
    {
     "data": {
      "text/plain": [
       "<Figure size 1920x1080 with 0 Axes>"
      ]
     },
     "metadata": {},
     "output_type": "display_data"
    },
    {
     "data": {
      "text/plain": [
       "<Figure size 1920x1080 with 0 Axes>"
      ]
     },
     "metadata": {},
     "output_type": "display_data"
    },
    {
     "data": {
      "text/plain": [
       "<Figure size 1920x1080 with 0 Axes>"
      ]
     },
     "metadata": {},
     "output_type": "display_data"
    },
    {
     "data": {
      "text/plain": [
       "<Figure size 1920x1080 with 0 Axes>"
      ]
     },
     "metadata": {},
     "output_type": "display_data"
    },
    {
     "data": {
      "text/plain": [
       "<Figure size 1920x1080 with 0 Axes>"
      ]
     },
     "metadata": {},
     "output_type": "display_data"
    },
    {
     "data": {
      "text/plain": [
       "<Figure size 1920x1080 with 0 Axes>"
      ]
     },
     "metadata": {},
     "output_type": "display_data"
    },
    {
     "data": {
      "text/plain": [
       "<Figure size 1920x1080 with 0 Axes>"
      ]
     },
     "metadata": {},
     "output_type": "display_data"
    },
    {
     "data": {
      "text/plain": [
       "<Figure size 1920x1080 with 0 Axes>"
      ]
     },
     "metadata": {},
     "output_type": "display_data"
    },
    {
     "data": {
      "text/plain": [
       "<Figure size 1920x1080 with 0 Axes>"
      ]
     },
     "metadata": {},
     "output_type": "display_data"
    },
    {
     "data": {
      "text/plain": [
       "<Figure size 1920x1080 with 0 Axes>"
      ]
     },
     "metadata": {},
     "output_type": "display_data"
    },
    {
     "data": {
      "text/plain": [
       "<Figure size 1920x1080 with 0 Axes>"
      ]
     },
     "metadata": {},
     "output_type": "display_data"
    },
    {
     "data": {
      "text/plain": [
       "<Figure size 1920x1080 with 0 Axes>"
      ]
     },
     "metadata": {},
     "output_type": "display_data"
    },
    {
     "data": {
      "text/plain": [
       "<Figure size 1920x1080 with 0 Axes>"
      ]
     },
     "metadata": {},
     "output_type": "display_data"
    },
    {
     "data": {
      "text/plain": [
       "<Figure size 1920x1080 with 0 Axes>"
      ]
     },
     "metadata": {},
     "output_type": "display_data"
    },
    {
     "data": {
      "text/plain": [
       "<Figure size 1920x1080 with 0 Axes>"
      ]
     },
     "metadata": {},
     "output_type": "display_data"
    },
    {
     "data": {
      "text/plain": [
       "<Figure size 1920x1080 with 0 Axes>"
      ]
     },
     "metadata": {},
     "output_type": "display_data"
    },
    {
     "data": {
      "text/plain": [
       "<Figure size 1920x1080 with 0 Axes>"
      ]
     },
     "metadata": {},
     "output_type": "display_data"
    },
    {
     "data": {
      "text/plain": [
       "<Figure size 1920x1080 with 0 Axes>"
      ]
     },
     "metadata": {},
     "output_type": "display_data"
    },
    {
     "data": {
      "text/plain": [
       "<Figure size 1920x1080 with 0 Axes>"
      ]
     },
     "metadata": {},
     "output_type": "display_data"
    },
    {
     "data": {
      "text/plain": [
       "<Figure size 1920x1080 with 0 Axes>"
      ]
     },
     "metadata": {},
     "output_type": "display_data"
    },
    {
     "data": {
      "text/plain": [
       "<Figure size 1920x1080 with 0 Axes>"
      ]
     },
     "metadata": {},
     "output_type": "display_data"
    },
    {
     "data": {
      "text/plain": [
       "<Figure size 1920x1080 with 0 Axes>"
      ]
     },
     "metadata": {},
     "output_type": "display_data"
    },
    {
     "data": {
      "text/plain": [
       "<Figure size 1920x1080 with 0 Axes>"
      ]
     },
     "metadata": {},
     "output_type": "display_data"
    },
    {
     "data": {
      "text/plain": [
       "<Figure size 1920x1080 with 0 Axes>"
      ]
     },
     "metadata": {},
     "output_type": "display_data"
    },
    {
     "data": {
      "text/plain": [
       "<Figure size 1920x1080 with 0 Axes>"
      ]
     },
     "metadata": {},
     "output_type": "display_data"
    },
    {
     "data": {
      "text/plain": [
       "<Figure size 1920x1080 with 0 Axes>"
      ]
     },
     "metadata": {},
     "output_type": "display_data"
    },
    {
     "data": {
      "text/plain": [
       "<Figure size 1920x1080 with 0 Axes>"
      ]
     },
     "metadata": {},
     "output_type": "display_data"
    },
    {
     "data": {
      "text/plain": [
       "<Figure size 1920x1080 with 0 Axes>"
      ]
     },
     "metadata": {},
     "output_type": "display_data"
    },
    {
     "data": {
      "text/plain": [
       "<Figure size 1920x1080 with 0 Axes>"
      ]
     },
     "metadata": {},
     "output_type": "display_data"
    },
    {
     "data": {
      "text/plain": [
       "<Figure size 1920x1080 with 0 Axes>"
      ]
     },
     "metadata": {},
     "output_type": "display_data"
    },
    {
     "data": {
      "text/plain": [
       "<Figure size 1920x1080 with 0 Axes>"
      ]
     },
     "metadata": {},
     "output_type": "display_data"
    },
    {
     "data": {
      "text/plain": [
       "<Figure size 1920x1080 with 0 Axes>"
      ]
     },
     "metadata": {},
     "output_type": "display_data"
    },
    {
     "data": {
      "text/plain": [
       "<Figure size 1920x1080 with 0 Axes>"
      ]
     },
     "metadata": {},
     "output_type": "display_data"
    },
    {
     "data": {
      "text/plain": [
       "<Figure size 1920x1080 with 0 Axes>"
      ]
     },
     "metadata": {},
     "output_type": "display_data"
    },
    {
     "data": {
      "text/plain": [
       "<Figure size 1920x1080 with 0 Axes>"
      ]
     },
     "metadata": {},
     "output_type": "display_data"
    },
    {
     "data": {
      "text/plain": [
       "<Figure size 1920x1080 with 0 Axes>"
      ]
     },
     "metadata": {},
     "output_type": "display_data"
    },
    {
     "data": {
      "text/plain": [
       "<Figure size 1920x1080 with 0 Axes>"
      ]
     },
     "metadata": {},
     "output_type": "display_data"
    },
    {
     "data": {
      "text/plain": [
       "<Figure size 1920x1080 with 0 Axes>"
      ]
     },
     "metadata": {},
     "output_type": "display_data"
    },
    {
     "data": {
      "text/plain": [
       "<Figure size 1920x1080 with 0 Axes>"
      ]
     },
     "metadata": {},
     "output_type": "display_data"
    },
    {
     "data": {
      "text/plain": [
       "<Figure size 1920x1080 with 0 Axes>"
      ]
     },
     "metadata": {},
     "output_type": "display_data"
    },
    {
     "data": {
      "text/plain": [
       "<Figure size 1920x1080 with 0 Axes>"
      ]
     },
     "metadata": {},
     "output_type": "display_data"
    },
    {
     "data": {
      "text/plain": [
       "<Figure size 1920x1080 with 0 Axes>"
      ]
     },
     "metadata": {},
     "output_type": "display_data"
    },
    {
     "data": {
      "text/plain": [
       "<Figure size 1920x1080 with 0 Axes>"
      ]
     },
     "metadata": {},
     "output_type": "display_data"
    },
    {
     "data": {
      "text/plain": [
       "<Figure size 1920x1080 with 0 Axes>"
      ]
     },
     "metadata": {},
     "output_type": "display_data"
    },
    {
     "data": {
      "text/plain": [
       "<Figure size 1920x1080 with 0 Axes>"
      ]
     },
     "metadata": {},
     "output_type": "display_data"
    },
    {
     "data": {
      "text/plain": [
       "<Figure size 1920x1080 with 0 Axes>"
      ]
     },
     "metadata": {},
     "output_type": "display_data"
    },
    {
     "data": {
      "text/plain": [
       "<Figure size 1920x1080 with 0 Axes>"
      ]
     },
     "metadata": {},
     "output_type": "display_data"
    },
    {
     "data": {
      "text/plain": [
       "<Figure size 1920x1080 with 0 Axes>"
      ]
     },
     "metadata": {},
     "output_type": "display_data"
    },
    {
     "data": {
      "text/plain": [
       "<Figure size 1920x1080 with 0 Axes>"
      ]
     },
     "metadata": {},
     "output_type": "display_data"
    },
    {
     "data": {
      "text/plain": [
       "<Figure size 1920x1080 with 0 Axes>"
      ]
     },
     "metadata": {},
     "output_type": "display_data"
    },
    {
     "data": {
      "text/plain": [
       "<Figure size 1920x1080 with 0 Axes>"
      ]
     },
     "metadata": {},
     "output_type": "display_data"
    },
    {
     "data": {
      "text/plain": [
       "<Figure size 1920x1080 with 0 Axes>"
      ]
     },
     "metadata": {},
     "output_type": "display_data"
    },
    {
     "data": {
      "text/plain": [
       "<Figure size 1920x1080 with 0 Axes>"
      ]
     },
     "metadata": {},
     "output_type": "display_data"
    },
    {
     "data": {
      "text/plain": [
       "<Figure size 1920x1080 with 0 Axes>"
      ]
     },
     "metadata": {},
     "output_type": "display_data"
    },
    {
     "data": {
      "text/plain": [
       "<Figure size 1920x1080 with 0 Axes>"
      ]
     },
     "metadata": {},
     "output_type": "display_data"
    },
    {
     "data": {
      "text/plain": [
       "<Figure size 1920x1080 with 0 Axes>"
      ]
     },
     "metadata": {},
     "output_type": "display_data"
    }
   ],
   "source": [
    "for i in range(len(unique_timestamp)):\n",
    "    plt.figure(figsize = (19.2,10.8))\n",
    "    tf = df_image[df_image['datetime_resample'] == unique_timestamp[i]]\n",
    "    plt.scatter(tf[tf['player_id'] != 0]['Y_ave'],tf[tf['player_id'] != 0]['X_ave'], color='b', marker='o', s = 100)\n",
    "    plt.scatter(tf[tf['player_id'] == 0]['Y_ave'],tf[tf['player_id'] == 0]['X_ave'], color ='r', marker='o',  s = 100)\n",
    "    plt.xticks(np.arange(-60000, 60000+20000,step=20000))\n",
    "    plt.yticks(np.arange(-40000, 30000+10000,step=10000))\n",
    "    name = tf['datetime'].iloc[0].strftime('%Y-%m-%d %H:%M:%S.%f')[:-4]\n",
    "    plt.title('UTC ' + name)\n",
    "    plt.savefig('./images/' + str(i) + '.png')\n",
    "    plt.clf()"
   ]
  },
  {
   "cell_type": "code",
   "execution_count": 48,
   "id": "8ca3c190",
   "metadata": {},
   "outputs": [],
   "source": [
    "import cv2"
   ]
  },
  {
   "cell_type": "code",
   "execution_count": 49,
   "id": "3be035e0",
   "metadata": {},
   "outputs": [],
   "source": [
    "video_name = 'usfl_game.avi'"
   ]
  },
  {
   "cell_type": "code",
   "execution_count": 50,
   "id": "7eef3254",
   "metadata": {},
   "outputs": [],
   "source": [
    "images = ['./images/' + str(i) + '.png' for i in range(len(unique_timestamp))]\n",
    "frame = cv2.imread(images[0])\n",
    "height, width, layers = frame.shape\n",
    "video = cv2.VideoWriter(video_name, 0, 20, (width,height))\n",
    "for image in images:\n",
    "    video.write(cv2.imread(image))\n",
    "cv2.destroyAllWindows()\n",
    "video.release()"
   ]
  }
 ],
 "metadata": {
  "kernelspec": {
   "display_name": "Python 3 (ipykernel)",
   "language": "python",
   "name": "python3"
  },
  "language_info": {
   "codemirror_mode": {
    "name": "ipython",
    "version": 3
   },
   "file_extension": ".py",
   "mimetype": "text/x-python",
   "name": "python",
   "nbconvert_exporter": "python",
   "pygments_lexer": "ipython3",
   "version": "3.10.0"
  }
 },
 "nbformat": 4,
 "nbformat_minor": 5
}

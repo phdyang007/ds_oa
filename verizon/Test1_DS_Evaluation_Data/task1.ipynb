{
 "cells": [
  {
   "cell_type": "code",
   "execution_count": 4,
   "id": "3d813fff",
   "metadata": {},
   "outputs": [],
   "source": [
    "import pandas as pd\n",
    "import os "
   ]
  },
  {
   "cell_type": "markdown",
   "id": "391f9ec4",
   "metadata": {},
   "source": [
    "Data Processing Prepare Training Data Set for DNN solution. \n",
    "For the data of 33 person, we chose 30 for training and 3 for validation. \n",
    "First Let's parse csvs."
   ]
  },
  {
   "cell_type": "code",
   "execution_count": null,
   "id": "b4298526",
   "metadata": {},
   "outputs": [],
   "source": []
  }
 ],
 "metadata": {
  "kernelspec": {
   "display_name": "Python 3 (ipykernel)",
   "language": "python",
   "name": "python3"
  },
  "language_info": {
   "codemirror_mode": {
    "name": "ipython",
    "version": 3
   },
   "file_extension": ".py",
   "mimetype": "text/x-python",
   "name": "python",
   "nbconvert_exporter": "python",
   "pygments_lexer": "ipython3",
   "version": "3.8.10"
  }
 },
 "nbformat": 4,
 "nbformat_minor": 5
}
